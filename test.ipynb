{
 "cells": [
  {
   "cell_type": "code",
   "execution_count": 2,
   "metadata": {},
   "outputs": [],
   "source": [
    "import numpy as np\n",
    "import matplotlib.pyplot as plt\n",
    "from ultralytics import YOLO"
   ]
  },
  {
   "cell_type": "code",
   "execution_count": 3,
   "metadata": {},
   "outputs": [],
   "source": [
    "model = YOLO(\"yolov10n.pt\")\n"
   ]
  },
  {
   "cell_type": "code",
   "execution_count": null,
   "metadata": {},
   "outputs": [
    {
     "name": "stdout",
     "output_type": "stream",
     "text": [
      "New https://pypi.org/project/ultralytics/8.3.37 available  Update with 'pip install -U ultralytics'\n",
      "Ultralytics 8.3.35  Python-3.12.7 torch-2.5.1+cpu CPU (13th Gen Intel Core(TM) i7-13700HX)\n",
      "\u001b[34m\u001b[1mengine\\trainer: \u001b[0mtask=detect, mode=train, model=yolov10n.pt, data=C:\\Users\\saksh\\Test1\\data.yaml, epochs=30, time=None, patience=10, batch=16, imgsz=640, save=True, save_period=-1, cache=False, device=None, workers=8, project=None, name=train, exist_ok=False, pretrained=True, optimizer=auto, verbose=True, seed=0, deterministic=True, single_cls=False, rect=False, cos_lr=False, close_mosaic=10, resume=False, amp=True, fraction=1.0, profile=False, freeze=None, multi_scale=False, overlap_mask=True, mask_ratio=4, dropout=0.0, val=True, split=val, save_json=False, save_hybrid=False, conf=None, iou=0.7, max_det=300, half=False, dnn=False, plots=True, source=None, vid_stride=1, stream_buffer=False, visualize=False, augment=False, agnostic_nms=False, classes=None, retina_masks=False, embed=None, show=False, save_frames=False, save_txt=False, save_conf=False, save_crop=False, show_labels=True, show_conf=True, show_boxes=True, line_width=None, format=torchscript, keras=False, optimize=False, int8=False, dynamic=False, simplify=True, opset=None, workspace=4, nms=False, lr0=0.01, lrf=0.001, momentum=0.937, weight_decay=0.0005, warmup_epochs=3.0, warmup_momentum=0.8, warmup_bias_lr=0.1, box=7.5, cls=0.5, dfl=1.5, pose=12.0, kobj=1.0, label_smoothing=0.0, nbs=64, hsv_h=0.015, hsv_s=0.7, hsv_v=0.4, degrees=0.0, translate=0.1, scale=0.5, shear=0.0, perspective=0.0, flipud=0.0, fliplr=0.5, bgr=0.0, mosaic=1.0, mixup=0.0, copy_paste=0.0, copy_paste_mode=flip, auto_augment=randaugment, erasing=0.4, crop_fraction=1.0, cfg=None, tracker=botsort.yaml, save_dir=runs\\detect\\train\n",
      "Overriding model.yaml nc=80 with nc=1\n",
      "\n",
      "                   from  n    params  module                                       arguments                     \n",
      "  0                  -1  1       464  ultralytics.nn.modules.conv.Conv             [3, 16, 3, 2]                 \n",
      "  1                  -1  1      4672  ultralytics.nn.modules.conv.Conv             [16, 32, 3, 2]                \n",
      "  2                  -1  1      7360  ultralytics.nn.modules.block.C2f             [32, 32, 1, True]             \n",
      "  3                  -1  1     18560  ultralytics.nn.modules.conv.Conv             [32, 64, 3, 2]                \n",
      "  4                  -1  2     49664  ultralytics.nn.modules.block.C2f             [64, 64, 2, True]             \n",
      "  5                  -1  1      9856  ultralytics.nn.modules.block.SCDown          [64, 128, 3, 2]               \n",
      "  6                  -1  2    197632  ultralytics.nn.modules.block.C2f             [128, 128, 2, True]           \n",
      "  7                  -1  1     36096  ultralytics.nn.modules.block.SCDown          [128, 256, 3, 2]              \n",
      "  8                  -1  1    460288  ultralytics.nn.modules.block.C2f             [256, 256, 1, True]           \n",
      "  9                  -1  1    164608  ultralytics.nn.modules.block.SPPF            [256, 256, 5]                 \n",
      " 10                  -1  1    249728  ultralytics.nn.modules.block.PSA             [256, 256]                    \n",
      " 11                  -1  1         0  torch.nn.modules.upsampling.Upsample         [None, 2, 'nearest']          \n",
      " 12             [-1, 6]  1         0  ultralytics.nn.modules.conv.Concat           [1]                           \n",
      " 13                  -1  1    148224  ultralytics.nn.modules.block.C2f             [384, 128, 1]                 \n",
      " 14                  -1  1         0  torch.nn.modules.upsampling.Upsample         [None, 2, 'nearest']          \n",
      " 15             [-1, 4]  1         0  ultralytics.nn.modules.conv.Concat           [1]                           \n",
      " 16                  -1  1     37248  ultralytics.nn.modules.block.C2f             [192, 64, 1]                  \n",
      " 17                  -1  1     36992  ultralytics.nn.modules.conv.Conv             [64, 64, 3, 2]                \n",
      " 18            [-1, 13]  1         0  ultralytics.nn.modules.conv.Concat           [1]                           \n",
      " 19                  -1  1    123648  ultralytics.nn.modules.block.C2f             [192, 128, 1]                 \n",
      " 20                  -1  1     18048  ultralytics.nn.modules.block.SCDown          [128, 128, 3, 2]              \n",
      " 21            [-1, 10]  1         0  ultralytics.nn.modules.conv.Concat           [1]                           \n",
      " 22                  -1  1    282624  ultralytics.nn.modules.block.C2fCIB          [384, 256, 1, True, True]     \n",
      " 23        [16, 19, 22]  1    861718  ultralytics.nn.modules.head.v10Detect        [1, [64, 128, 256]]           \n",
      "YOLOv10n summary: 385 layers, 2,707,430 parameters, 2,707,414 gradients, 8.4 GFLOPs\n",
      "\n",
      "Transferred 493/595 items from pretrained weights\n",
      "Freezing layer 'model.23.dfl.conv.weight'\n"
     ]
    },
    {
     "name": "stderr",
     "output_type": "stream",
     "text": [
      "\u001b[34m\u001b[1mtrain: \u001b[0mScanning C:\\Users\\saksh\\Test1\\train\\labels.cache... 664 images, 116 backgrounds, 0 corrupt: 100%|██████████| 664/664 [00:00<?, ?it/s]\n",
      "\u001b[34m\u001b[1mval: \u001b[0mScanning C:\\Users\\saksh\\Test1\\valid\\labels.cache... 191 images, 35 backgrounds, 0 corrupt: 100%|██████████| 191/191 [00:00<?, ?it/s]"
     ]
    },
    {
     "name": "stdout",
     "output_type": "stream",
     "text": [
      "Plotting labels to runs\\detect\\train\\labels.jpg... \n"
     ]
    },
    {
     "name": "stderr",
     "output_type": "stream",
     "text": [
      "\n"
     ]
    },
    {
     "name": "stdout",
     "output_type": "stream",
     "text": [
      "\u001b[34m\u001b[1moptimizer:\u001b[0m 'optimizer=auto' found, ignoring 'lr0=0.01' and 'momentum=0.937' and determining best 'optimizer', 'lr0' and 'momentum' automatically... \n",
      "\u001b[34m\u001b[1moptimizer:\u001b[0m AdamW(lr=0.002, momentum=0.9) with parameter groups 95 weight(decay=0.0), 108 weight(decay=0.0005), 107 bias(decay=0.0)\n",
      "Image sizes 640 train, 640 val\n",
      "Using 0 dataloader workers\n",
      "Logging results to \u001b[1mruns\\detect\\train\u001b[0m\n",
      "Starting training for 30 epochs...\n",
      "\n",
      "      Epoch    GPU_mem   box_loss   cls_loss   dfl_loss  Instances       Size\n"
     ]
    },
    {
     "name": "stderr",
     "output_type": "stream",
     "text": [
      "       1/30         0G      1.245      6.705      2.444         12        640: 100%|██████████| 42/42 [01:37<00:00,  2.31s/it]\n",
      "                 Class     Images  Instances      Box(P          R      mAP50  mAP50-95): 100%|██████████| 6/6 [00:12<00:00,  2.15s/it]"
     ]
    },
    {
     "name": "stdout",
     "output_type": "stream",
     "text": [
      "                   all        191        157    0.00257      0.936      0.253      0.106\n"
     ]
    },
    {
     "name": "stderr",
     "output_type": "stream",
     "text": [
      "\n"
     ]
    },
    {
     "name": "stdout",
     "output_type": "stream",
     "text": [
      "\n",
      "      Epoch    GPU_mem   box_loss   cls_loss   dfl_loss  Instances       Size\n"
     ]
    },
    {
     "name": "stderr",
     "output_type": "stream",
     "text": [
      "       2/30         0G      1.384      5.235      2.431         18        640: 100%|██████████| 42/42 [01:37<00:00,  2.32s/it]\n",
      "                 Class     Images  Instances      Box(P          R      mAP50  mAP50-95): 100%|██████████| 6/6 [00:10<00:00,  1.75s/it]"
     ]
    },
    {
     "name": "stdout",
     "output_type": "stream",
     "text": [
      "                   all        191        157      0.492      0.229      0.333      0.142\n"
     ]
    },
    {
     "name": "stderr",
     "output_type": "stream",
     "text": [
      "\n"
     ]
    },
    {
     "name": "stdout",
     "output_type": "stream",
     "text": [
      "\n",
      "      Epoch    GPU_mem   box_loss   cls_loss   dfl_loss  Instances       Size\n"
     ]
    },
    {
     "name": "stderr",
     "output_type": "stream",
     "text": [
      "       3/30         0G      1.346       3.77      2.416         19        640: 100%|██████████| 42/42 [02:37<00:00,  3.75s/it]\n",
      "                 Class     Images  Instances      Box(P          R      mAP50  mAP50-95): 100%|██████████| 6/6 [00:09<00:00,  1.65s/it]"
     ]
    },
    {
     "name": "stdout",
     "output_type": "stream",
     "text": [
      "                   all        191        157       0.73       0.79      0.805      0.675\n"
     ]
    },
    {
     "name": "stderr",
     "output_type": "stream",
     "text": [
      "\n"
     ]
    },
    {
     "name": "stdout",
     "output_type": "stream",
     "text": [
      "\n",
      "      Epoch    GPU_mem   box_loss   cls_loss   dfl_loss  Instances       Size\n"
     ]
    },
    {
     "name": "stderr",
     "output_type": "stream",
     "text": [
      "       4/30         0G      1.353      3.101      2.409         20        640: 100%|██████████| 42/42 [01:30<00:00,  2.14s/it]\n",
      "                 Class     Images  Instances      Box(P          R      mAP50  mAP50-95): 100%|██████████| 6/6 [00:09<00:00,  1.62s/it]"
     ]
    },
    {
     "name": "stdout",
     "output_type": "stream",
     "text": [
      "                   all        191        157      0.188      0.127      0.121     0.0339\n"
     ]
    },
    {
     "name": "stderr",
     "output_type": "stream",
     "text": [
      "\n"
     ]
    },
    {
     "name": "stdout",
     "output_type": "stream",
     "text": [
      "\n",
      "      Epoch    GPU_mem   box_loss   cls_loss   dfl_loss  Instances       Size\n"
     ]
    },
    {
     "name": "stderr",
     "output_type": "stream",
     "text": [
      "       5/30         0G      1.268      2.497      2.315         15        640: 100%|██████████| 42/42 [02:51<00:00,  4.09s/it]\n",
      "                 Class     Images  Instances      Box(P          R      mAP50  mAP50-95): 100%|██████████| 6/6 [00:21<00:00,  3.66s/it]"
     ]
    },
    {
     "name": "stdout",
     "output_type": "stream",
     "text": [
      "                   all        191        157      0.665      0.828      0.703      0.632\n"
     ]
    },
    {
     "name": "stderr",
     "output_type": "stream",
     "text": [
      "\n"
     ]
    },
    {
     "name": "stdout",
     "output_type": "stream",
     "text": [
      "\n",
      "      Epoch    GPU_mem   box_loss   cls_loss   dfl_loss  Instances       Size\n"
     ]
    },
    {
     "name": "stderr",
     "output_type": "stream",
     "text": [
      "       6/30         0G      1.227      2.171      2.305         20        640: 100%|██████████| 42/42 [05:42<00:00,  8.16s/it]\n",
      "                 Class     Images  Instances      Box(P          R      mAP50  mAP50-95): 100%|██████████| 6/6 [00:26<00:00,  4.39s/it]"
     ]
    },
    {
     "name": "stdout",
     "output_type": "stream",
     "text": [
      "                   all        191        157      0.615      0.754      0.668      0.597\n"
     ]
    },
    {
     "name": "stderr",
     "output_type": "stream",
     "text": [
      "\n"
     ]
    },
    {
     "name": "stdout",
     "output_type": "stream",
     "text": [
      "\n",
      "      Epoch    GPU_mem   box_loss   cls_loss   dfl_loss  Instances       Size\n"
     ]
    },
    {
     "name": "stderr",
     "output_type": "stream",
     "text": [
      "       7/30         0G      1.251      1.936      2.315         19        640: 100%|██████████| 42/42 [03:14<00:00,  4.63s/it]\n",
      "                 Class     Images  Instances      Box(P          R      mAP50  mAP50-95): 100%|██████████| 6/6 [00:09<00:00,  1.62s/it]"
     ]
    },
    {
     "name": "stdout",
     "output_type": "stream",
     "text": [
      "                   all        191        157      0.497      0.624       0.51      0.232\n"
     ]
    },
    {
     "name": "stderr",
     "output_type": "stream",
     "text": [
      "\n"
     ]
    },
    {
     "name": "stdout",
     "output_type": "stream",
     "text": [
      "\n",
      "      Epoch    GPU_mem   box_loss   cls_loss   dfl_loss  Instances       Size\n"
     ]
    },
    {
     "name": "stderr",
     "output_type": "stream",
     "text": [
      "       8/30         0G       1.15      1.777      2.252         18        640: 100%|██████████| 42/42 [01:31<00:00,  2.17s/it]\n",
      "                 Class     Images  Instances      Box(P          R      mAP50  mAP50-95): 100%|██████████| 6/6 [00:09<00:00,  1.62s/it]"
     ]
    },
    {
     "name": "stdout",
     "output_type": "stream",
     "text": [
      "                   all        191        157      0.359      0.516      0.291       0.09\n"
     ]
    },
    {
     "name": "stderr",
     "output_type": "stream",
     "text": [
      "\n"
     ]
    },
    {
     "name": "stdout",
     "output_type": "stream",
     "text": [
      "\n",
      "      Epoch    GPU_mem   box_loss   cls_loss   dfl_loss  Instances       Size\n"
     ]
    },
    {
     "name": "stderr",
     "output_type": "stream",
     "text": [
      "       9/30         0G      1.138       1.74      2.263         16        640: 100%|██████████| 42/42 [01:29<00:00,  2.14s/it]\n",
      "                 Class     Images  Instances      Box(P          R      mAP50  mAP50-95): 100%|██████████| 6/6 [00:09<00:00,  1.64s/it]"
     ]
    },
    {
     "name": "stdout",
     "output_type": "stream",
     "text": [
      "                   all        191        157      0.945      0.127      0.495      0.317\n"
     ]
    },
    {
     "name": "stderr",
     "output_type": "stream",
     "text": [
      "\n"
     ]
    },
    {
     "name": "stdout",
     "output_type": "stream",
     "text": [
      "\n",
      "      Epoch    GPU_mem   box_loss   cls_loss   dfl_loss  Instances       Size\n"
     ]
    },
    {
     "name": "stderr",
     "output_type": "stream",
     "text": [
      "      10/30         0G      1.123      1.587      2.236         18        640: 100%|██████████| 42/42 [01:30<00:00,  2.16s/it]\n",
      "                 Class     Images  Instances      Box(P          R      mAP50  mAP50-95): 100%|██████████| 6/6 [00:14<00:00,  2.39s/it]"
     ]
    },
    {
     "name": "stdout",
     "output_type": "stream",
     "text": [
      "                   all        191        157       0.76      0.788      0.768      0.598\n"
     ]
    },
    {
     "name": "stderr",
     "output_type": "stream",
     "text": [
      "\n"
     ]
    },
    {
     "name": "stdout",
     "output_type": "stream",
     "text": [
      "\n",
      "      Epoch    GPU_mem   box_loss   cls_loss   dfl_loss  Instances       Size\n"
     ]
    },
    {
     "name": "stderr",
     "output_type": "stream",
     "text": [
      "      11/30         0G      1.056      1.463      2.187         17        640: 100%|██████████| 42/42 [06:49<00:00,  9.74s/it]\n",
      "                 Class     Images  Instances      Box(P          R      mAP50  mAP50-95): 100%|██████████| 6/6 [00:15<00:00,  2.57s/it]"
     ]
    },
    {
     "name": "stdout",
     "output_type": "stream",
     "text": [
      "                   all        191        157      0.793      0.854      0.779      0.713\n"
     ]
    },
    {
     "name": "stderr",
     "output_type": "stream",
     "text": [
      "\n"
     ]
    },
    {
     "name": "stdout",
     "output_type": "stream",
     "text": [
      "\n",
      "      Epoch    GPU_mem   box_loss   cls_loss   dfl_loss  Instances       Size\n"
     ]
    },
    {
     "name": "stderr",
     "output_type": "stream",
     "text": [
      "      12/30         0G      1.077      1.411      2.221         14        640: 100%|██████████| 42/42 [05:21<00:00,  7.66s/it]\n",
      "                 Class     Images  Instances      Box(P          R      mAP50  mAP50-95): 100%|██████████| 6/6 [00:25<00:00,  4.27s/it]"
     ]
    },
    {
     "name": "stdout",
     "output_type": "stream",
     "text": [
      "                   all        191        157      0.795      0.887        0.8      0.732\n"
     ]
    },
    {
     "name": "stderr",
     "output_type": "stream",
     "text": [
      "\n"
     ]
    },
    {
     "name": "stdout",
     "output_type": "stream",
     "text": [
      "\n",
      "      Epoch    GPU_mem   box_loss   cls_loss   dfl_loss  Instances       Size\n"
     ]
    },
    {
     "name": "stderr",
     "output_type": "stream",
     "text": [
      "      13/30         0G      1.068      1.411      2.221         16        640: 100%|██████████| 42/42 [02:54<00:00,  4.15s/it]\n",
      "                 Class     Images  Instances      Box(P          R      mAP50  mAP50-95): 100%|██████████| 6/6 [00:10<00:00,  1.82s/it]"
     ]
    },
    {
     "name": "stdout",
     "output_type": "stream",
     "text": [
      "                   all        191        157      0.748      0.854      0.738      0.712\n"
     ]
    },
    {
     "name": "stderr",
     "output_type": "stream",
     "text": [
      "\n"
     ]
    },
    {
     "name": "stdout",
     "output_type": "stream",
     "text": [
      "\n",
      "      Epoch    GPU_mem   box_loss   cls_loss   dfl_loss  Instances       Size\n"
     ]
    },
    {
     "name": "stderr",
     "output_type": "stream",
     "text": [
      "      14/30         0G     0.9733      1.295      2.158         21        640: 100%|██████████| 42/42 [05:48<00:00,  8.29s/it]\n",
      "                 Class     Images  Instances      Box(P          R      mAP50  mAP50-95): 100%|██████████| 6/6 [00:10<00:00,  1.69s/it]"
     ]
    },
    {
     "name": "stdout",
     "output_type": "stream",
     "text": [
      "                   all        191        157      0.863      0.822      0.838      0.802\n"
     ]
    },
    {
     "name": "stderr",
     "output_type": "stream",
     "text": [
      "\n"
     ]
    },
    {
     "name": "stdout",
     "output_type": "stream",
     "text": [
      "\n",
      "      Epoch    GPU_mem   box_loss   cls_loss   dfl_loss  Instances       Size\n"
     ]
    },
    {
     "name": "stderr",
     "output_type": "stream",
     "text": [
      "      15/30         0G      1.041      1.333      2.195          9        640: 100%|██████████| 42/42 [01:33<00:00,  2.22s/it]\n",
      "                 Class     Images  Instances      Box(P          R      mAP50  mAP50-95): 100%|██████████| 6/6 [00:10<00:00,  1.70s/it]"
     ]
    },
    {
     "name": "stdout",
     "output_type": "stream",
     "text": [
      "                   all        191        157      0.717      0.771      0.757      0.676\n"
     ]
    },
    {
     "name": "stderr",
     "output_type": "stream",
     "text": [
      "\n"
     ]
    },
    {
     "name": "stdout",
     "output_type": "stream",
     "text": [
      "\n",
      "      Epoch    GPU_mem   box_loss   cls_loss   dfl_loss  Instances       Size\n"
     ]
    },
    {
     "name": "stderr",
     "output_type": "stream",
     "text": [
      "      16/30         0G     0.9484      1.242      2.137         19        640: 100%|██████████| 42/42 [01:31<00:00,  2.18s/it]\n",
      "                 Class     Images  Instances      Box(P          R      mAP50  mAP50-95): 100%|██████████| 6/6 [00:09<00:00,  1.66s/it]"
     ]
    },
    {
     "name": "stdout",
     "output_type": "stream",
     "text": [
      "                   all        191        157       0.75      0.784       0.72      0.643\n"
     ]
    },
    {
     "name": "stderr",
     "output_type": "stream",
     "text": [
      "\n"
     ]
    },
    {
     "name": "stdout",
     "output_type": "stream",
     "text": [
      "\n",
      "      Epoch    GPU_mem   box_loss   cls_loss   dfl_loss  Instances       Size\n"
     ]
    },
    {
     "name": "stderr",
     "output_type": "stream",
     "text": [
      "      17/30         0G     0.9321      1.231       2.15         14        640: 100%|██████████| 42/42 [01:33<00:00,  2.22s/it]\n",
      "                 Class     Images  Instances      Box(P          R      mAP50  mAP50-95): 100%|██████████| 6/6 [00:10<00:00,  1.69s/it]"
     ]
    },
    {
     "name": "stdout",
     "output_type": "stream",
     "text": [
      "                   all        191        157      0.764      0.803      0.794      0.766\n"
     ]
    },
    {
     "name": "stderr",
     "output_type": "stream",
     "text": [
      "\n"
     ]
    },
    {
     "name": "stdout",
     "output_type": "stream",
     "text": [
      "\n",
      "      Epoch    GPU_mem   box_loss   cls_loss   dfl_loss  Instances       Size\n"
     ]
    },
    {
     "name": "stderr",
     "output_type": "stream",
     "text": [
      "      18/30         0G     0.9064      1.214      2.109         16        640: 100%|██████████| 42/42 [01:31<00:00,  2.18s/it]\n",
      "                 Class     Images  Instances      Box(P          R      mAP50  mAP50-95): 100%|██████████| 6/6 [00:10<00:00,  1.67s/it]"
     ]
    },
    {
     "name": "stdout",
     "output_type": "stream",
     "text": [
      "                   all        191        157      0.783      0.822      0.821      0.801\n"
     ]
    },
    {
     "name": "stderr",
     "output_type": "stream",
     "text": [
      "\n"
     ]
    },
    {
     "name": "stdout",
     "output_type": "stream",
     "text": [
      "\n",
      "      Epoch    GPU_mem   box_loss   cls_loss   dfl_loss  Instances       Size\n"
     ]
    },
    {
     "name": "stderr",
     "output_type": "stream",
     "text": [
      "      19/30         0G      0.889      1.203      2.124         16        640: 100%|██████████| 42/42 [01:31<00:00,  2.17s/it]\n",
      "                 Class     Images  Instances      Box(P          R      mAP50  mAP50-95): 100%|██████████| 6/6 [00:10<00:00,  1.68s/it]"
     ]
    },
    {
     "name": "stdout",
     "output_type": "stream",
     "text": [
      "                   all        191        157      0.844      0.815      0.843      0.822\n"
     ]
    },
    {
     "name": "stderr",
     "output_type": "stream",
     "text": [
      "\n"
     ]
    },
    {
     "name": "stdout",
     "output_type": "stream",
     "text": [
      "\n",
      "      Epoch    GPU_mem   box_loss   cls_loss   dfl_loss  Instances       Size\n"
     ]
    },
    {
     "name": "stderr",
     "output_type": "stream",
     "text": [
      "      20/30         0G     0.9001      1.177      2.119         14        640: 100%|██████████| 42/42 [02:34<00:00,  3.69s/it]\n",
      "                 Class     Images  Instances      Box(P          R      mAP50  mAP50-95): 100%|██████████| 6/6 [00:27<00:00,  4.52s/it]"
     ]
    },
    {
     "name": "stdout",
     "output_type": "stream",
     "text": [
      "                   all        191        157      0.793      0.885      0.827      0.811\n"
     ]
    },
    {
     "name": "stderr",
     "output_type": "stream",
     "text": [
      "\n"
     ]
    },
    {
     "name": "stdout",
     "output_type": "stream",
     "text": [
      "Closing dataloader mosaic\n",
      "\n",
      "      Epoch    GPU_mem   box_loss   cls_loss   dfl_loss  Instances       Size\n"
     ]
    },
    {
     "name": "stderr",
     "output_type": "stream",
     "text": [
      "      21/30         0G     0.5757      1.294      1.937          6        640: 100%|██████████| 42/42 [04:02<00:00,  5.77s/it]\n",
      "                 Class     Images  Instances      Box(P          R      mAP50  mAP50-95): 100%|██████████| 6/6 [00:09<00:00,  1.66s/it]"
     ]
    },
    {
     "name": "stdout",
     "output_type": "stream",
     "text": [
      "                   all        191        157      0.792      0.873      0.854      0.839\n"
     ]
    },
    {
     "name": "stderr",
     "output_type": "stream",
     "text": [
      "\n"
     ]
    },
    {
     "name": "stdout",
     "output_type": "stream",
     "text": [
      "\n",
      "      Epoch    GPU_mem   box_loss   cls_loss   dfl_loss  Instances       Size\n"
     ]
    },
    {
     "name": "stderr",
     "output_type": "stream",
     "text": [
      "      22/30         0G     0.5531      1.153      1.907          7        640: 100%|██████████| 42/42 [01:31<00:00,  2.18s/it]\n",
      "                 Class     Images  Instances      Box(P          R      mAP50  mAP50-95): 100%|██████████| 6/6 [00:11<00:00,  1.87s/it]"
     ]
    },
    {
     "name": "stdout",
     "output_type": "stream",
     "text": [
      "                   all        191        157      0.794      0.898      0.796       0.78\n"
     ]
    },
    {
     "name": "stderr",
     "output_type": "stream",
     "text": [
      "\n"
     ]
    },
    {
     "name": "stdout",
     "output_type": "stream",
     "text": [
      "\n",
      "      Epoch    GPU_mem   box_loss   cls_loss   dfl_loss  Instances       Size\n"
     ]
    },
    {
     "name": "stderr",
     "output_type": "stream",
     "text": [
      "      23/30         0G     0.5101      1.079      1.858          6        640: 100%|██████████| 42/42 [01:42<00:00,  2.44s/it]\n",
      "                 Class     Images  Instances      Box(P          R      mAP50  mAP50-95): 100%|██████████| 6/6 [00:10<00:00,  1.76s/it]"
     ]
    },
    {
     "name": "stdout",
     "output_type": "stream",
     "text": [
      "                   all        191        157      0.795      0.904      0.799      0.786\n"
     ]
    },
    {
     "name": "stderr",
     "output_type": "stream",
     "text": [
      "\n"
     ]
    },
    {
     "name": "stdout",
     "output_type": "stream",
     "text": [
      "\n",
      "      Epoch    GPU_mem   box_loss   cls_loss   dfl_loss  Instances       Size\n"
     ]
    },
    {
     "name": "stderr",
     "output_type": "stream",
     "text": [
      "      24/30         0G     0.5099      1.091       1.87          4        640: 100%|██████████| 42/42 [03:50<00:00,  5.48s/it]\n",
      "                 Class     Images  Instances      Box(P          R      mAP50  mAP50-95): 100%|██████████| 6/6 [00:19<00:00,  3.19s/it]"
     ]
    },
    {
     "name": "stdout",
     "output_type": "stream",
     "text": [
      "                   all        191        157      0.848      0.888      0.819      0.804\n"
     ]
    },
    {
     "name": "stderr",
     "output_type": "stream",
     "text": [
      "\n"
     ]
    },
    {
     "name": "stdout",
     "output_type": "stream",
     "text": [
      "\n",
      "      Epoch    GPU_mem   box_loss   cls_loss   dfl_loss  Instances       Size\n"
     ]
    },
    {
     "name": "stderr",
     "output_type": "stream",
     "text": [
      "      25/30         0G     0.5021      1.054      1.852          6        640: 100%|██████████| 42/42 [04:47<00:00,  6.83s/it]\n",
      "                 Class     Images  Instances      Box(P          R      mAP50  mAP50-95): 100%|██████████| 6/6 [00:09<00:00,  1.66s/it]"
     ]
    },
    {
     "name": "stdout",
     "output_type": "stream",
     "text": [
      "                   all        191        157      0.884      0.866      0.869      0.862\n"
     ]
    },
    {
     "name": "stderr",
     "output_type": "stream",
     "text": [
      "\n"
     ]
    },
    {
     "name": "stdout",
     "output_type": "stream",
     "text": [
      "\n",
      "      Epoch    GPU_mem   box_loss   cls_loss   dfl_loss  Instances       Size\n"
     ]
    },
    {
     "name": "stderr",
     "output_type": "stream",
     "text": [
      "      26/30         0G     0.4567      1.006      1.834          7        640: 100%|██████████| 42/42 [01:28<00:00,  2.10s/it]\n",
      "                 Class     Images  Instances      Box(P          R      mAP50  mAP50-95): 100%|██████████| 6/6 [00:09<00:00,  1.66s/it]"
     ]
    },
    {
     "name": "stdout",
     "output_type": "stream",
     "text": [
      "                   all        191        157      0.854      0.857      0.872      0.866\n"
     ]
    },
    {
     "name": "stderr",
     "output_type": "stream",
     "text": [
      "\n"
     ]
    },
    {
     "name": "stdout",
     "output_type": "stream",
     "text": [
      "\n",
      "      Epoch    GPU_mem   box_loss   cls_loss   dfl_loss  Instances       Size\n"
     ]
    },
    {
     "name": "stderr",
     "output_type": "stream",
     "text": [
      "      27/30         0G     0.4587     0.9813      1.805          7        640: 100%|██████████| 42/42 [01:39<00:00,  2.38s/it]\n",
      "                 Class     Images  Instances      Box(P          R      mAP50  mAP50-95): 100%|██████████| 6/6 [00:26<00:00,  4.42s/it]"
     ]
    },
    {
     "name": "stdout",
     "output_type": "stream",
     "text": [
      "                   all        191        157      0.833      0.892      0.861      0.855\n"
     ]
    },
    {
     "name": "stderr",
     "output_type": "stream",
     "text": [
      "\n"
     ]
    },
    {
     "name": "stdout",
     "output_type": "stream",
     "text": [
      "\n",
      "      Epoch    GPU_mem   box_loss   cls_loss   dfl_loss  Instances       Size\n"
     ]
    },
    {
     "name": "stderr",
     "output_type": "stream",
     "text": [
      "      28/30         0G     0.4335     0.9469      1.795          6        640: 100%|██████████| 42/42 [01:29<00:00,  2.12s/it]\n",
      "                 Class     Images  Instances      Box(P          R      mAP50  mAP50-95): 100%|██████████| 6/6 [00:13<00:00,  2.27s/it]"
     ]
    },
    {
     "name": "stdout",
     "output_type": "stream",
     "text": [
      "                   all        191        157      0.816      0.892      0.858      0.853\n"
     ]
    },
    {
     "name": "stderr",
     "output_type": "stream",
     "text": [
      "\n"
     ]
    },
    {
     "name": "stdout",
     "output_type": "stream",
     "text": [
      "\n",
      "      Epoch    GPU_mem   box_loss   cls_loss   dfl_loss  Instances       Size\n"
     ]
    },
    {
     "name": "stderr",
     "output_type": "stream",
     "text": [
      "      29/30         0G     0.4153     0.9142      1.778          7        640: 100%|██████████| 42/42 [02:55<00:00,  4.18s/it]\n",
      "                 Class     Images  Instances      Box(P          R      mAP50  mAP50-95): 100%|██████████| 6/6 [00:10<00:00,  1.71s/it]"
     ]
    },
    {
     "name": "stdout",
     "output_type": "stream",
     "text": [
      "                   all        191        157      0.819      0.879      0.861      0.855\n"
     ]
    },
    {
     "name": "stderr",
     "output_type": "stream",
     "text": [
      "\n"
     ]
    },
    {
     "name": "stdout",
     "output_type": "stream",
     "text": [
      "\n",
      "      Epoch    GPU_mem   box_loss   cls_loss   dfl_loss  Instances       Size\n"
     ]
    },
    {
     "name": "stderr",
     "output_type": "stream",
     "text": [
      "      30/30         0G     0.4057     0.9058      1.794          8        640: 100%|██████████| 42/42 [01:31<00:00,  2.17s/it]\n",
      "                 Class     Images  Instances      Box(P          R      mAP50  mAP50-95): 100%|██████████| 6/6 [00:09<00:00,  1.57s/it]"
     ]
    },
    {
     "name": "stdout",
     "output_type": "stream",
     "text": [
      "                   all        191        157       0.83      0.904       0.87      0.866\n"
     ]
    },
    {
     "name": "stderr",
     "output_type": "stream",
     "text": [
      "\n"
     ]
    },
    {
     "name": "stdout",
     "output_type": "stream",
     "text": [
      "\n",
      "30 epochs completed in 1.446 hours.\n",
      "Optimizer stripped from runs\\detect\\train\\weights\\last.pt, 5.7MB\n",
      "Optimizer stripped from runs\\detect\\train\\weights\\best.pt, 5.7MB\n",
      "\n",
      "Validating runs\\detect\\train\\weights\\best.pt...\n",
      "Ultralytics 8.3.35  Python-3.12.7 torch-2.5.1+cpu CPU (13th Gen Intel Core(TM) i7-13700HX)\n",
      "YOLOv10n summary (fused): 285 layers, 2,694,806 parameters, 0 gradients, 8.2 GFLOPs\n"
     ]
    },
    {
     "name": "stderr",
     "output_type": "stream",
     "text": [
      "                 Class     Images  Instances      Box(P          R      mAP50  mAP50-95): 100%|██████████| 6/6 [00:08<00:00,  1.36s/it]\n"
     ]
    },
    {
     "name": "stdout",
     "output_type": "stream",
     "text": [
      "                   all        191        157       0.83      0.904      0.871      0.866\n",
      "Speed: 0.6ms preprocess, 38.3ms inference, 0.0ms loss, 0.0ms postprocess per image\n",
      "Results saved to \u001b[1mruns\\detect\\train\u001b[0m\n"
     ]
    }
   ],
   "source": [
    "params = {\n",
    "    'data': r'C:\\Users\\saksh\\Test1\\data.yaml',\n",
    "    'epochs': 30,           # Number of epochs\n",
    "    'imgsz': 640,            # Image size\n",
    "    'cache': False,          # Enable caching \n",
    "    'patience': 10,          # Early stopping patience\n",
    "    'lr0': 0.01,             # Initial learning rate\n",
    "    'lrf': 0.001,            # Final learning rate\n",
    "    'degrees': 0.0,          # Image augmentation (rotation)\n",
    "    'translate': 0.1,        # Image augmentation (translation)\n",
    "    'scale': 0.5,            # Image augmentation (scale)\n",
    "    'shear': 0.0,            # Image augmentation (shear)\n",
    "    'perspective': 0.0,      # Image augmentation (perspective)\n",
    "    'flipud': 0.0,           # Image augmentation (vertical flip)\n",
    "    'fliplr': 0.5,           # Image augmentation (horizontal flip)\n",
    "}\n",
    "# Train the model with custom parameters\n",
    "train_results=model.train(**params)"
   ]
  },
  {
   "cell_type": "code",
   "execution_count": null,
   "metadata": {},
   "outputs": [
    {
     "ename": "NameError",
     "evalue": "name 'model' is not defined",
     "output_type": "error",
     "traceback": [
      "\u001b[1;31m---------------------------------------------------------------------------\u001b[0m",
      "\u001b[1;31mNameError\u001b[0m                                 Traceback (most recent call last)",
      "Cell \u001b[1;32mIn[1], line 1\u001b[0m\n\u001b[1;32m----> 1\u001b[0m val_results\u001b[38;5;241m=\u001b[39m\u001b[43mmodel\u001b[49m\u001b[38;5;241m.\u001b[39mval(data\u001b[38;5;241m=\u001b[39m\u001b[38;5;124mr\u001b[39m\u001b[38;5;124m'\u001b[39m\u001b[38;5;124mC:\u001b[39m\u001b[38;5;124m\\\u001b[39m\u001b[38;5;124mUsers\u001b[39m\u001b[38;5;124m\\\u001b[39m\u001b[38;5;124msaksh\u001b[39m\u001b[38;5;124m\\\u001b[39m\u001b[38;5;124mTest1\u001b[39m\u001b[38;5;124m\\\u001b[39m\u001b[38;5;124mdata.yaml\u001b[39m\u001b[38;5;124m'\u001b[39m)\n",
      "\u001b[1;31mNameError\u001b[0m: name 'model' is not defined"
     ]
    }
   ],
   "source": [
    "model  = "
   ]
  },
  {
   "cell_type": "code",
   "execution_count": 4,
   "metadata": {},
   "outputs": [
    {
     "name": "stdout",
     "output_type": "stream",
     "text": [
      "Ultralytics 8.3.35  Python-3.12.7 torch-2.5.1+cpu CPU (13th Gen Intel Core(TM) i7-13700HX)\n",
      "YOLOv10n summary (fused): 285 layers, 2,762,608 parameters, 0 gradients, 8.6 GFLOPs\n"
     ]
    },
    {
     "name": "stderr",
     "output_type": "stream",
     "text": [
      "\u001b[34m\u001b[1mval: \u001b[0mScanning C:\\Users\\saksh\\Test1\\valid\\labels.cache... 191 images, 35 backgrounds, 0 corrupt: 100%|██████████| 191/191 [00:00<?, ?it/s]\n",
      "                 Class     Images  Instances      Box(P          R      mAP50  mAP50-95): 100%|██████████| 12/12 [00:09<00:00,  1.25it/s]\n"
     ]
    },
    {
     "name": "stdout",
     "output_type": "stream",
     "text": [
      "                   all        191        157      0.339      0.828      0.521      0.465\n",
      "                person        156        157      0.339      0.828      0.521      0.465\n",
      "Speed: 0.6ms preprocess, 36.0ms inference, 0.0ms loss, 0.0ms postprocess per image\n",
      "Results saved to \u001b[1mruns\\detect\\val\u001b[0m\n"
     ]
    }
   ],
   "source": [
    "val_results=model.val(data=r'C:\\Users\\saksh\\Test1\\data.yaml')"
   ]
  },
  {
   "cell_type": "code",
   "execution_count": null,
   "metadata": {},
   "outputs": [
    {
     "data": {
      "text/plain": [
       "[array([          0,    0.001001,    0.002002,    0.003003,    0.004004,    0.005005,    0.006006,    0.007007,    0.008008,    0.009009,     0.01001,    0.011011,    0.012012,    0.013013,    0.014014,    0.015015,    0.016016,    0.017017,    0.018018,    0.019019,     0.02002,    0.021021,    0.022022,    0.023023,\n",
       "           0.024024,    0.025025,    0.026026,    0.027027,    0.028028,    0.029029,     0.03003,    0.031031,    0.032032,    0.033033,    0.034034,    0.035035,    0.036036,    0.037037,    0.038038,    0.039039,     0.04004,    0.041041,    0.042042,    0.043043,    0.044044,    0.045045,    0.046046,    0.047047,\n",
       "           0.048048,    0.049049,     0.05005,    0.051051,    0.052052,    0.053053,    0.054054,    0.055055,    0.056056,    0.057057,    0.058058,    0.059059,     0.06006,    0.061061,    0.062062,    0.063063,    0.064064,    0.065065,    0.066066,    0.067067,    0.068068,    0.069069,     0.07007,    0.071071,\n",
       "           0.072072,    0.073073,    0.074074,    0.075075,    0.076076,    0.077077,    0.078078,    0.079079,     0.08008,    0.081081,    0.082082,    0.083083,    0.084084,    0.085085,    0.086086,    0.087087,    0.088088,    0.089089,     0.09009,    0.091091,    0.092092,    0.093093,    0.094094,    0.095095,\n",
       "           0.096096,    0.097097,    0.098098,    0.099099,      0.1001,      0.1011,      0.1021,      0.1031,      0.1041,     0.10511,     0.10611,     0.10711,     0.10811,     0.10911,     0.11011,     0.11111,     0.11211,     0.11311,     0.11411,     0.11512,     0.11612,     0.11712,     0.11812,     0.11912,\n",
       "            0.12012,     0.12112,     0.12212,     0.12312,     0.12412,     0.12513,     0.12613,     0.12713,     0.12813,     0.12913,     0.13013,     0.13113,     0.13213,     0.13313,     0.13413,     0.13514,     0.13614,     0.13714,     0.13814,     0.13914,     0.14014,     0.14114,     0.14214,     0.14314,\n",
       "            0.14414,     0.14515,     0.14615,     0.14715,     0.14815,     0.14915,     0.15015,     0.15115,     0.15215,     0.15315,     0.15415,     0.15516,     0.15616,     0.15716,     0.15816,     0.15916,     0.16016,     0.16116,     0.16216,     0.16316,     0.16416,     0.16517,     0.16617,     0.16717,\n",
       "            0.16817,     0.16917,     0.17017,     0.17117,     0.17217,     0.17317,     0.17417,     0.17518,     0.17618,     0.17718,     0.17818,     0.17918,     0.18018,     0.18118,     0.18218,     0.18318,     0.18418,     0.18519,     0.18619,     0.18719,     0.18819,     0.18919,     0.19019,     0.19119,\n",
       "            0.19219,     0.19319,     0.19419,      0.1952,      0.1962,      0.1972,      0.1982,      0.1992,      0.2002,      0.2012,      0.2022,      0.2032,      0.2042,     0.20521,     0.20621,     0.20721,     0.20821,     0.20921,     0.21021,     0.21121,     0.21221,     0.21321,     0.21421,     0.21522,\n",
       "            0.21622,     0.21722,     0.21822,     0.21922,     0.22022,     0.22122,     0.22222,     0.22322,     0.22422,     0.22523,     0.22623,     0.22723,     0.22823,     0.22923,     0.23023,     0.23123,     0.23223,     0.23323,     0.23423,     0.23524,     0.23624,     0.23724,     0.23824,     0.23924,\n",
       "            0.24024,     0.24124,     0.24224,     0.24324,     0.24424,     0.24525,     0.24625,     0.24725,     0.24825,     0.24925,     0.25025,     0.25125,     0.25225,     0.25325,     0.25425,     0.25526,     0.25626,     0.25726,     0.25826,     0.25926,     0.26026,     0.26126,     0.26226,     0.26326,\n",
       "            0.26426,     0.26527,     0.26627,     0.26727,     0.26827,     0.26927,     0.27027,     0.27127,     0.27227,     0.27327,     0.27427,     0.27528,     0.27628,     0.27728,     0.27828,     0.27928,     0.28028,     0.28128,     0.28228,     0.28328,     0.28428,     0.28529,     0.28629,     0.28729,\n",
       "            0.28829,     0.28929,     0.29029,     0.29129,     0.29229,     0.29329,     0.29429,      0.2953,      0.2963,      0.2973,      0.2983,      0.2993,      0.3003,      0.3013,      0.3023,      0.3033,      0.3043,     0.30531,     0.30631,     0.30731,     0.30831,     0.30931,     0.31031,     0.31131,\n",
       "            0.31231,     0.31331,     0.31431,     0.31532,     0.31632,     0.31732,     0.31832,     0.31932,     0.32032,     0.32132,     0.32232,     0.32332,     0.32432,     0.32533,     0.32633,     0.32733,     0.32833,     0.32933,     0.33033,     0.33133,     0.33233,     0.33333,     0.33433,     0.33534,\n",
       "            0.33634,     0.33734,     0.33834,     0.33934,     0.34034,     0.34134,     0.34234,     0.34334,     0.34434,     0.34535,     0.34635,     0.34735,     0.34835,     0.34935,     0.35035,     0.35135,     0.35235,     0.35335,     0.35435,     0.35536,     0.35636,     0.35736,     0.35836,     0.35936,\n",
       "            0.36036,     0.36136,     0.36236,     0.36336,     0.36436,     0.36537,     0.36637,     0.36737,     0.36837,     0.36937,     0.37037,     0.37137,     0.37237,     0.37337,     0.37437,     0.37538,     0.37638,     0.37738,     0.37838,     0.37938,     0.38038,     0.38138,     0.38238,     0.38338,\n",
       "            0.38438,     0.38539,     0.38639,     0.38739,     0.38839,     0.38939,     0.39039,     0.39139,     0.39239,     0.39339,     0.39439,      0.3954,      0.3964,      0.3974,      0.3984,      0.3994,      0.4004,      0.4014,      0.4024,      0.4034,      0.4044,     0.40541,     0.40641,     0.40741,\n",
       "            0.40841,     0.40941,     0.41041,     0.41141,     0.41241,     0.41341,     0.41441,     0.41542,     0.41642,     0.41742,     0.41842,     0.41942,     0.42042,     0.42142,     0.42242,     0.42342,     0.42442,     0.42543,     0.42643,     0.42743,     0.42843,     0.42943,     0.43043,     0.43143,\n",
       "            0.43243,     0.43343,     0.43443,     0.43544,     0.43644,     0.43744,     0.43844,     0.43944,     0.44044,     0.44144,     0.44244,     0.44344,     0.44444,     0.44545,     0.44645,     0.44745,     0.44845,     0.44945,     0.45045,     0.45145,     0.45245,     0.45345,     0.45445,     0.45546,\n",
       "            0.45646,     0.45746,     0.45846,     0.45946,     0.46046,     0.46146,     0.46246,     0.46346,     0.46446,     0.46547,     0.46647,     0.46747,     0.46847,     0.46947,     0.47047,     0.47147,     0.47247,     0.47347,     0.47447,     0.47548,     0.47648,     0.47748,     0.47848,     0.47948,\n",
       "            0.48048,     0.48148,     0.48248,     0.48348,     0.48448,     0.48549,     0.48649,     0.48749,     0.48849,     0.48949,     0.49049,     0.49149,     0.49249,     0.49349,     0.49449,      0.4955,      0.4965,      0.4975,      0.4985,      0.4995,      0.5005,      0.5015,      0.5025,      0.5035,\n",
       "             0.5045,     0.50551,     0.50651,     0.50751,     0.50851,     0.50951,     0.51051,     0.51151,     0.51251,     0.51351,     0.51451,     0.51552,     0.51652,     0.51752,     0.51852,     0.51952,     0.52052,     0.52152,     0.52252,     0.52352,     0.52452,     0.52553,     0.52653,     0.52753,\n",
       "            0.52853,     0.52953,     0.53053,     0.53153,     0.53253,     0.53353,     0.53453,     0.53554,     0.53654,     0.53754,     0.53854,     0.53954,     0.54054,     0.54154,     0.54254,     0.54354,     0.54454,     0.54555,     0.54655,     0.54755,     0.54855,     0.54955,     0.55055,     0.55155,\n",
       "            0.55255,     0.55355,     0.55455,     0.55556,     0.55656,     0.55756,     0.55856,     0.55956,     0.56056,     0.56156,     0.56256,     0.56356,     0.56456,     0.56557,     0.56657,     0.56757,     0.56857,     0.56957,     0.57057,     0.57157,     0.57257,     0.57357,     0.57457,     0.57558,\n",
       "            0.57658,     0.57758,     0.57858,     0.57958,     0.58058,     0.58158,     0.58258,     0.58358,     0.58458,     0.58559,     0.58659,     0.58759,     0.58859,     0.58959,     0.59059,     0.59159,     0.59259,     0.59359,     0.59459,      0.5956,      0.5966,      0.5976,      0.5986,      0.5996,\n",
       "             0.6006,      0.6016,      0.6026,      0.6036,      0.6046,     0.60561,     0.60661,     0.60761,     0.60861,     0.60961,     0.61061,     0.61161,     0.61261,     0.61361,     0.61461,     0.61562,     0.61662,     0.61762,     0.61862,     0.61962,     0.62062,     0.62162,     0.62262,     0.62362,\n",
       "            0.62462,     0.62563,     0.62663,     0.62763,     0.62863,     0.62963,     0.63063,     0.63163,     0.63263,     0.63363,     0.63463,     0.63564,     0.63664,     0.63764,     0.63864,     0.63964,     0.64064,     0.64164,     0.64264,     0.64364,     0.64464,     0.64565,     0.64665,     0.64765,\n",
       "            0.64865,     0.64965,     0.65065,     0.65165,     0.65265,     0.65365,     0.65465,     0.65566,     0.65666,     0.65766,     0.65866,     0.65966,     0.66066,     0.66166,     0.66266,     0.66366,     0.66466,     0.66567,     0.66667,     0.66767,     0.66867,     0.66967,     0.67067,     0.67167,\n",
       "            0.67267,     0.67367,     0.67467,     0.67568,     0.67668,     0.67768,     0.67868,     0.67968,     0.68068,     0.68168,     0.68268,     0.68368,     0.68468,     0.68569,     0.68669,     0.68769,     0.68869,     0.68969,     0.69069,     0.69169,     0.69269,     0.69369,     0.69469,      0.6957,\n",
       "             0.6967,      0.6977,      0.6987,      0.6997,      0.7007,      0.7017,      0.7027,      0.7037,      0.7047,     0.70571,     0.70671,     0.70771,     0.70871,     0.70971,     0.71071,     0.71171,     0.71271,     0.71371,     0.71471,     0.71572,     0.71672,     0.71772,     0.71872,     0.71972,\n",
       "            0.72072,     0.72172,     0.72272,     0.72372,     0.72472,     0.72573,     0.72673,     0.72773,     0.72873,     0.72973,     0.73073,     0.73173,     0.73273,     0.73373,     0.73473,     0.73574,     0.73674,     0.73774,     0.73874,     0.73974,     0.74074,     0.74174,     0.74274,     0.74374,\n",
       "            0.74474,     0.74575,     0.74675,     0.74775,     0.74875,     0.74975,     0.75075,     0.75175,     0.75275,     0.75375,     0.75475,     0.75576,     0.75676,     0.75776,     0.75876,     0.75976,     0.76076,     0.76176,     0.76276,     0.76376,     0.76476,     0.76577,     0.76677,     0.76777,\n",
       "            0.76877,     0.76977,     0.77077,     0.77177,     0.77277,     0.77377,     0.77477,     0.77578,     0.77678,     0.77778,     0.77878,     0.77978,     0.78078,     0.78178,     0.78278,     0.78378,     0.78478,     0.78579,     0.78679,     0.78779,     0.78879,     0.78979,     0.79079,     0.79179,\n",
       "            0.79279,     0.79379,     0.79479,      0.7958,      0.7968,      0.7978,      0.7988,      0.7998,      0.8008,      0.8018,      0.8028,      0.8038,      0.8048,     0.80581,     0.80681,     0.80781,     0.80881,     0.80981,     0.81081,     0.81181,     0.81281,     0.81381,     0.81481,     0.81582,\n",
       "            0.81682,     0.81782,     0.81882,     0.81982,     0.82082,     0.82182,     0.82282,     0.82382,     0.82482,     0.82583,     0.82683,     0.82783,     0.82883,     0.82983,     0.83083,     0.83183,     0.83283,     0.83383,     0.83483,     0.83584,     0.83684,     0.83784,     0.83884,     0.83984,\n",
       "            0.84084,     0.84184,     0.84284,     0.84384,     0.84484,     0.84585,     0.84685,     0.84785,     0.84885,     0.84985,     0.85085,     0.85185,     0.85285,     0.85385,     0.85485,     0.85586,     0.85686,     0.85786,     0.85886,     0.85986,     0.86086,     0.86186,     0.86286,     0.86386,\n",
       "            0.86486,     0.86587,     0.86687,     0.86787,     0.86887,     0.86987,     0.87087,     0.87187,     0.87287,     0.87387,     0.87487,     0.87588,     0.87688,     0.87788,     0.87888,     0.87988,     0.88088,     0.88188,     0.88288,     0.88388,     0.88488,     0.88589,     0.88689,     0.88789,\n",
       "            0.88889,     0.88989,     0.89089,     0.89189,     0.89289,     0.89389,     0.89489,      0.8959,      0.8969,      0.8979,      0.8989,      0.8999,      0.9009,      0.9019,      0.9029,      0.9039,      0.9049,     0.90591,     0.90691,     0.90791,     0.90891,     0.90991,     0.91091,     0.91191,\n",
       "            0.91291,     0.91391,     0.91491,     0.91592,     0.91692,     0.91792,     0.91892,     0.91992,     0.92092,     0.92192,     0.92292,     0.92392,     0.92492,     0.92593,     0.92693,     0.92793,     0.92893,     0.92993,     0.93093,     0.93193,     0.93293,     0.93393,     0.93493,     0.93594,\n",
       "            0.93694,     0.93794,     0.93894,     0.93994,     0.94094,     0.94194,     0.94294,     0.94394,     0.94494,     0.94595,     0.94695,     0.94795,     0.94895,     0.94995,     0.95095,     0.95195,     0.95295,     0.95395,     0.95495,     0.95596,     0.95696,     0.95796,     0.95896,     0.95996,\n",
       "            0.96096,     0.96196,     0.96296,     0.96396,     0.96496,     0.96597,     0.96697,     0.96797,     0.96897,     0.96997,     0.97097,     0.97197,     0.97297,     0.97397,     0.97497,     0.97598,     0.97698,     0.97798,     0.97898,     0.97998,     0.98098,     0.98198,     0.98298,     0.98398,\n",
       "            0.98498,     0.98599,     0.98699,     0.98799,     0.98899,     0.98999,     0.99099,     0.99199,     0.99299,     0.99399,     0.99499,       0.996,       0.997,       0.998,       0.999,           1]),\n",
       " array([[          1,           1,           1,           1,           1,           1,           1,           1,           1,           1,           1,           1,           1,           1,           1,           1,           1,           1,           1,           1,           1,           1,           1,\n",
       "                   1,           1,           1,           1,           1,           1,           1,           1,           1,       0.875,       0.875,       0.875,       0.875,       0.875,       0.875,       0.875,       0.875,       0.875,       0.875,       0.875,       0.875,       0.875,        0.75,\n",
       "                0.75,        0.75,        0.75,        0.75,        0.75,        0.75,        0.75,        0.75,        0.75,        0.75,        0.75,        0.75,        0.75,        0.75,        0.75,        0.75,        0.75,        0.75,        0.75,        0.75,        0.75,        0.75,        0.75,\n",
       "                0.75,        0.75,        0.75,        0.75,        0.75,        0.75,        0.75,        0.75,        0.75,        0.75,        0.75,        0.75,        0.75,        0.75,        0.75,        0.75,        0.75,        0.75,        0.75,        0.75,        0.75,        0.75,        0.75,\n",
       "                0.75,        0.75,        0.75,        0.75,        0.75,        0.75,        0.75,        0.75,        0.75,        0.75,        0.75,        0.75,        0.75,        0.75,        0.75,        0.75,        0.75,        0.75,        0.75,        0.75,        0.75,        0.75,        0.75,\n",
       "              0.7037,      0.7037,      0.7037,      0.7037,      0.7037,      0.7037,     0.68657,     0.68657,     0.68657,     0.68657,     0.68657,     0.68657,     0.68657,     0.68657,     0.68657,     0.68657,     0.68657,     0.68657,     0.68657,     0.68657,     0.68657,     0.68657,     0.68657,\n",
       "             0.68657,     0.68657,     0.68657,     0.68657,     0.68657,     0.68657,     0.68657,     0.68657,     0.68657,     0.68657,     0.68657,     0.68657,     0.68657,     0.68657,     0.68657,     0.68657,     0.68657,     0.68657,     0.68657,     0.68657,     0.68657,     0.68657,     0.68657,\n",
       "             0.68657,     0.68657,     0.68657,     0.68657,     0.68657,     0.68657,     0.68657,     0.68657,     0.68657,     0.68657,     0.68657,     0.68657,     0.68657,     0.68657,     0.68657,     0.68657,     0.68657,     0.68657,     0.68657,     0.68657,     0.68657,     0.68657,     0.68657,\n",
       "             0.68657,     0.68657,     0.68657,     0.68657,     0.68657,     0.68657,     0.68657,     0.68657,     0.68657,     0.68657,     0.68657,     0.68657,     0.68657,     0.68657,     0.68657,     0.68657,     0.68657,     0.68657,     0.68657,     0.68657,     0.68657,     0.68657,     0.68657,\n",
       "             0.68657,     0.68657,     0.68657,     0.68657,     0.68657,     0.68657,     0.68657,     0.68657,     0.68657,     0.68657,     0.68657,     0.68657,     0.68657,     0.68657,     0.68657,     0.68657,     0.68657,     0.68657,     0.68657,     0.68657,     0.68657,     0.68657,     0.68657,\n",
       "             0.68657,     0.68657,     0.68657,     0.68657,     0.68657,     0.68657,     0.68657,     0.68657,     0.68657,     0.68657,     0.68657,     0.68657,     0.68657,     0.68657,     0.68657,     0.68657,     0.68657,     0.68657,     0.68657,     0.68657,     0.68657,     0.68657,     0.68657,\n",
       "             0.68657,     0.68657,     0.68657,     0.68657,     0.68657,     0.68657,     0.68657,     0.68657,     0.68657,     0.68657,     0.68657,     0.68657,     0.68657,     0.68657,     0.68657,     0.68657,     0.68657,     0.68657,     0.68657,     0.68657,     0.68657,     0.68657,     0.68657,\n",
       "             0.68657,     0.68657,     0.68657,     0.68657,     0.68657,     0.68657,     0.68657,     0.68657,     0.68657,     0.68657,     0.68657,     0.68657,     0.68657,     0.68657,     0.68657,     0.68657,     0.68657,     0.66667,     0.66667,     0.66667,     0.66667,     0.66667,     0.66667,\n",
       "             0.66667,     0.66667,     0.66667,     0.66667,     0.66667,     0.66667,     0.66667,     0.63218,     0.63218,     0.63218,     0.63218,     0.63218,     0.63218,     0.63218,     0.63218,     0.63218,     0.63218,     0.63218,     0.63218,     0.63218,     0.63218,     0.63218,     0.63218,\n",
       "             0.63218,     0.63218,     0.63218,     0.63218,     0.63218,     0.63218,     0.63218,     0.63218,     0.63218,     0.63218,     0.63218,     0.63218,     0.63218,     0.63218,     0.63218,     0.63218,     0.63218,     0.63218,     0.63218,     0.63218,     0.63218,     0.63218,     0.63218,\n",
       "             0.63218,     0.63218,     0.63218,     0.63218,     0.63218,     0.60638,     0.60638,     0.60638,     0.60638,     0.60638,     0.60638,     0.60638,     0.60638,     0.60638,     0.60638,     0.60638,     0.60638,     0.60638,     0.59794,     0.59794,     0.59794,     0.59794,     0.59794,\n",
       "             0.59794,     0.59794,     0.59596,     0.59596,     0.59596,     0.59596,     0.59596,     0.59596,     0.58537,     0.58537,     0.58537,     0.58537,     0.58537,     0.58537,     0.58537,     0.58537,     0.58537,     0.58537,     0.58537,     0.58537,     0.58537,     0.58537,     0.58537,\n",
       "             0.58537,     0.58537,     0.58537,     0.58537,     0.58537,     0.58537,     0.58537,     0.58537,     0.58537,     0.58537,     0.58537,     0.58537,     0.58537,     0.58537,     0.58537,     0.58537,     0.58537,     0.58537,     0.58537,     0.58537,     0.58537,     0.58537,     0.58537,\n",
       "             0.58537,     0.58537,     0.58537,     0.58537,     0.58537,     0.58537,     0.58537,     0.58537,     0.58537,     0.58537,     0.58537,     0.58537,     0.58537,     0.58537,     0.58537,     0.58537,     0.58537,     0.58537,     0.58537,     0.58537,     0.58537,     0.58537,     0.58537,\n",
       "             0.58537,     0.58537,     0.58537,     0.58537,     0.58537,     0.58537,     0.58537,     0.58537,     0.58537,     0.58537,     0.58537,     0.58537,     0.58537,     0.58537,     0.58537,     0.58537,     0.58537,     0.58537,     0.58537,     0.58537,     0.58537,     0.58537,     0.57937,\n",
       "             0.57937,     0.57937,     0.57937,     0.57937,     0.57937,     0.57037,     0.57037,     0.57037,     0.57037,     0.57037,     0.57037,     0.57037,     0.57037,     0.57037,     0.57037,     0.57037,     0.57037,     0.57037,     0.57037,     0.57037,     0.57037,     0.57037,     0.57037,\n",
       "             0.57037,     0.57037,     0.57037,     0.57037,     0.57037,     0.57037,     0.57037,     0.56934,     0.56934,     0.56934,     0.56934,     0.56934,     0.56934,     0.56934,     0.56835,     0.56835,     0.56835,     0.56835,     0.56835,     0.56835,     0.56738,     0.56738,     0.56738,\n",
       "             0.56738,     0.56738,     0.56738,     0.56738,     0.56643,     0.56643,     0.56643,     0.56643,     0.56643,     0.56643,     0.54305,     0.54305,     0.54305,     0.54305,     0.54305,     0.54305,     0.53205,     0.53205,     0.53205,     0.53205,     0.53205,     0.53205,     0.53205,\n",
       "               0.525,       0.525,       0.525,       0.525,       0.525,       0.525,     0.51829,     0.51829,     0.51829,     0.51829,     0.51829,     0.51829,     0.51807,     0.51807,     0.51807,     0.51807,     0.51807,     0.51807,     0.51807,      0.5082,      0.5082,      0.5082,      0.5082,\n",
       "              0.5082,      0.5082,      0.5082,      0.5082,      0.5082,      0.5082,      0.5082,      0.5082,      0.5082,      0.5082,      0.5082,      0.5082,      0.5082,      0.5082,      0.5082,      0.5082,      0.5082,      0.5082,      0.5082,      0.5082,      0.5082,      0.5082,      0.5082,\n",
       "              0.5082,      0.5082,      0.5082,      0.5082,      0.5082,      0.5082,      0.5082,      0.5082,      0.5082,      0.5082,      0.5082,      0.5082,      0.5082,      0.5082,      0.5082,      0.5082,      0.5082,     0.50811,     0.50811,     0.50811,     0.50811,     0.50811,     0.50811,\n",
       "             0.50811,     0.50265,     0.50265,     0.50265,     0.50265,     0.50265,     0.50265,     0.49741,     0.49741,     0.49741,     0.49741,     0.49741,     0.49741,     0.48515,     0.48515,     0.48515,     0.48515,     0.48515,     0.48515,     0.48515,     0.48515,     0.48515,     0.48515,\n",
       "             0.48515,     0.48515,     0.48515,     0.47596,     0.47596,     0.47596,     0.47596,     0.47596,     0.47596,     0.47418,     0.47418,     0.47418,     0.47418,     0.47418,     0.47418,     0.47418,     0.47418,     0.47418,     0.47418,     0.47418,     0.47418,     0.47418,     0.46575,\n",
       "             0.46575,     0.46575,     0.46575,     0.46575,     0.46575,     0.46575,     0.46188,     0.46188,     0.46188,     0.46188,     0.46188,     0.46188,     0.46053,     0.46053,     0.46053,     0.46053,     0.46053,     0.46053,     0.46053,     0.46053,     0.46053,     0.46053,     0.46053,\n",
       "             0.46053,     0.46053,     0.45299,     0.45299,     0.45299,     0.45299,     0.45299,     0.45299,     0.43852,     0.43852,     0.43852,     0.43852,     0.43852,     0.43852,     0.43346,     0.43346,     0.43346,     0.43346,     0.43346,     0.43346,     0.43346,     0.43346,     0.43346,\n",
       "             0.43346,     0.43346,     0.43346,     0.43346,     0.43346,     0.43346,     0.43346,     0.43346,     0.43346,     0.43346,     0.43346,     0.43346,     0.43346,     0.43346,     0.43346,     0.43346,     0.43346,     0.43346,     0.43346,     0.43346,     0.43346,     0.43346,     0.43346,\n",
       "             0.43346,     0.43346,     0.43346,     0.43346,     0.43346,     0.43346,     0.43346,     0.43346,     0.43346,     0.43346,     0.43346,     0.43346,     0.43346,     0.42491,     0.42491,     0.42491,     0.42491,     0.42491,     0.42491,     0.42491,     0.42491,     0.42491,     0.42491,\n",
       "             0.42491,     0.42491,     0.42491,     0.42391,     0.42391,     0.42391,     0.42391,     0.42391,     0.42391,     0.41404,     0.41404,     0.41404,     0.41404,     0.41404,     0.41404,     0.40476,     0.40476,     0.40476,     0.40476,     0.40476,     0.40476,     0.40476,     0.39867,\n",
       "             0.39867,     0.39867,     0.39867,     0.39867,     0.39867,     0.38658,     0.38658,     0.38658,     0.38658,     0.38658,     0.38658,     0.38486,     0.38486,     0.38486,     0.38486,     0.38486,     0.38486,     0.38486,      0.3773,      0.3773,      0.3773,      0.3773,      0.3773,\n",
       "              0.3773,     0.37349,     0.37349,     0.37349,     0.37349,     0.37349,     0.37349,     0.37349,     0.37313,     0.37313,     0.37313,     0.37313,     0.37313,     0.37313,      0.3695,      0.3695,      0.3695,      0.3695,      0.3695,      0.3695,      0.3639,      0.3639,      0.3639,\n",
       "              0.3639,      0.3639,      0.3639,      0.3639,     0.35933,     0.35933,     0.35933,     0.35933,     0.35933,     0.35933,     0.35933,     0.35933,     0.35933,     0.35933,     0.35933,     0.35933,     0.34031,     0.34031,     0.34031,     0.34031,     0.34031,     0.34031,     0.34031,\n",
       "             0.33696,     0.33499,     0.33302,     0.33105,     0.32908,     0.32711,     0.32514,     0.32317,      0.3212,     0.31923,     0.31725,     0.31528,     0.31331,     0.31134,     0.30937,      0.3074,     0.30543,     0.30346,     0.30149,     0.29952,     0.29755,     0.29558,     0.29361,\n",
       "             0.29164,     0.28967,      0.2877,     0.28573,     0.28376,     0.28179,     0.27981,     0.27784,     0.27587,      0.2739,     0.27193,     0.26996,     0.26799,     0.26602,     0.26405,     0.26208,     0.26011,     0.25814,     0.25617,      0.2542,     0.25223,     0.25026,     0.24829,\n",
       "             0.24632,     0.24435,     0.24237,      0.2404,     0.23843,     0.23646,     0.23449,     0.23252,     0.23055,     0.22858,     0.22661,     0.22464,     0.22267,      0.2207,     0.21873,     0.21676,     0.21479,     0.21282,     0.21085,     0.20888,     0.20691,     0.20493,     0.20296,\n",
       "             0.20099,     0.19902,     0.19705,     0.19508,     0.19311,     0.19114,     0.18917,      0.1872,     0.18523,     0.18326,     0.18129,     0.17932,     0.17735,     0.17538,     0.17341,     0.17144,     0.16947,     0.16749,     0.16552,     0.16355,     0.16158,     0.15961,     0.15764,\n",
       "             0.15567,      0.1537,     0.15173,     0.14976,     0.14779,     0.14582,     0.14385,     0.14188,     0.13991,     0.13794,     0.13597,       0.134,     0.13203,     0.13005,     0.12808,     0.12611,     0.12414,     0.12217,      0.1202,     0.11823,     0.11626,     0.11429,     0.11232,\n",
       "             0.11035,     0.10838,     0.10641,     0.10444,     0.10247,      0.1005,    0.098526,    0.096556,    0.094585,    0.092615,    0.090644,    0.088674,    0.086703,    0.084733,    0.082762,    0.080792,    0.078821,    0.076851,     0.07488,     0.07291,    0.070939,    0.068968,    0.066998,\n",
       "            0.065027,    0.063057,    0.061086,    0.059116,    0.057145,    0.055175,    0.053204,    0.051234,    0.049263,    0.047293,    0.045322,    0.043352,    0.041381,    0.039411,     0.03744,    0.035469,    0.033499,    0.031528,    0.029558,    0.027587,    0.025617,    0.023646,    0.021676,\n",
       "            0.019705,    0.017735,    0.015764,    0.013794,    0.011823,   0.0098526,   0.0078821,   0.0059116,   0.0039411,   0.0019705,           0]]),\n",
       " 'Recall',\n",
       " 'Precision']"
      ]
     },
     "execution_count": 16,
     "metadata": {},
     "output_type": "execute_result"
    }
   ],
   "source": [
    "val_results.curves_results[0]"
   ]
  },
  {
   "cell_type": "code",
   "execution_count": 31,
   "metadata": {},
   "outputs": [
    {
     "data": {
      "text/plain": [
       "'Precision'"
      ]
     },
     "execution_count": 31,
     "metadata": {},
     "output_type": "execute_result"
    }
   ],
   "source": [
    "val_results.curves_results[0][3]"
   ]
  },
  {
   "cell_type": "code",
   "execution_count": null,
   "metadata": {},
   "outputs": [],
   "source": [
    "f1_score= val_results.box.f1\n",
    "fitness = val_results.box.fitness\n",
    "map = val_results.box.map\n",
    "map50 = val_results.box.map50\n",
    "map75 = val_results.box.map75\n",
    "mean_results = val_results.mean_results\n"
   ]
  },
  {
   "cell_type": "code",
   "execution_count": 94,
   "metadata": {},
   "outputs": [
    {
     "data": {
      "text/plain": [
       "<Figure size 640x480 with 0 Axes>"
      ]
     },
     "metadata": {},
     "output_type": "display_data"
    },
    {
     "data": {
      "text/plain": [
       "<Figure size 1000x600 with 1 Axes>"
      ]
     },
     "metadata": {},
     "output_type": "display_data"
    }
   ],
   "source": [
    "import matplotlib.pyplot as plt\n",
    "import numpy as np\n",
    "\n",
    "# Define the metrics\n",
    "metrics = {\n",
    "    'Precision (B)': 0.8303352547235249,\n",
    "    'Recall (B)': 0.9039854721750209,\n",
    "    'mAP50 (B)': 0.8705865490102644,\n",
    "    'mAP50-95 (B)': 0.8662522697826027,\n",
    "    'Fitness': 0.866685697705369\n",
    "}\n",
    "\n",
    "# Plotting the metrics as a bar chart\n",
    "plt.figure(figsize=(10, 6))\n",
    "plt.bar(metrics.keys(), metrics.values(), color=['b', 'g', 'r', 'c', 'm'])\n",
    "\n",
    "# Adding labels and title\n",
    "plt.xlabel('Metrics')\n",
    "plt.ylabel('Values')\n",
    "plt.title('Model Evaluation Metrics')\n",
    "\n",
    "# Display the plot\n",
    "plt.grid(True)\n",
    "plt.tight_layout()\n",
    "\n",
    "# Save the plot as a PNG file\n",
    "plt.savefig(\"model_evaluation_metrics.png\", format='png')\n",
    "\n",
    "# Show the plot\n",
    "plt.show()\n"
   ]
  },
  {
   "cell_type": "code",
   "execution_count": 130,
   "metadata": {},
   "outputs": [
    {
     "data": {
      "text/plain": [
       "{'metrics/precision(B)': np.float64(0.8303352547235249),\n",
       " 'metrics/recall(B)': np.float64(0.9039854721750209),\n",
       " 'metrics/mAP50(B)': np.float64(0.8705865490102644),\n",
       " 'metrics/mAP50-95(B)': np.float64(0.8662522697826027),\n",
       " 'fitness': np.float64(0.866685697705369)}"
      ]
     },
     "execution_count": 130,
     "metadata": {},
     "output_type": "execute_result"
    }
   ],
   "source": [
    "val_results.results_dict"
   ]
  },
  {
   "cell_type": "code",
   "execution_count": 135,
   "metadata": {},
   "outputs": [
    {
     "name": "stdout",
     "output_type": "stream",
     "text": [
      "ultralytics.utils.metrics.DetMetrics object with attributes:\n",
      "\n",
      "ap_class_index: array([0])\n",
      "box: ultralytics.utils.metrics.Metric object\n",
      "confusion_matrix: <ultralytics.utils.metrics.ConfusionMatrix object at 0x000001A41971D3A0>\n",
      "curves: ['Precision-Recall(B)', 'F1-Confidence(B)', 'Precision-Confidence(B)', 'Recall-Confidence(B)']\n",
      "curves_results: [[array([          0,    0.001001,    0.002002,    0.003003,    0.004004,    0.005005,    0.006006,    0.007007,    0.008008,    0.009009,     0.01001,    0.011011,    0.012012,    0.013013,    0.014014,    0.015015,    0.016016,    0.017017,    0.018018,    0.019019,     0.02002,    0.021021,    0.022022,    0.023023,\n",
      "          0.024024,    0.025025,    0.026026,    0.027027,    0.028028,    0.029029,     0.03003,    0.031031,    0.032032,    0.033033,    0.034034,    0.035035,    0.036036,    0.037037,    0.038038,    0.039039,     0.04004,    0.041041,    0.042042,    0.043043,    0.044044,    0.045045,    0.046046,    0.047047,\n",
      "          0.048048,    0.049049,     0.05005,    0.051051,    0.052052,    0.053053,    0.054054,    0.055055,    0.056056,    0.057057,    0.058058,    0.059059,     0.06006,    0.061061,    0.062062,    0.063063,    0.064064,    0.065065,    0.066066,    0.067067,    0.068068,    0.069069,     0.07007,    0.071071,\n",
      "          0.072072,    0.073073,    0.074074,    0.075075,    0.076076,    0.077077,    0.078078,    0.079079,     0.08008,    0.081081,    0.082082,    0.083083,    0.084084,    0.085085,    0.086086,    0.087087,    0.088088,    0.089089,     0.09009,    0.091091,    0.092092,    0.093093,    0.094094,    0.095095,\n",
      "          0.096096,    0.097097,    0.098098,    0.099099,      0.1001,      0.1011,      0.1021,      0.1031,      0.1041,     0.10511,     0.10611,     0.10711,     0.10811,     0.10911,     0.11011,     0.11111,     0.11211,     0.11311,     0.11411,     0.11512,     0.11612,     0.11712,     0.11812,     0.11912,\n",
      "           0.12012,     0.12112,     0.12212,     0.12312,     0.12412,     0.12513,     0.12613,     0.12713,     0.12813,     0.12913,     0.13013,     0.13113,     0.13213,     0.13313,     0.13413,     0.13514,     0.13614,     0.13714,     0.13814,     0.13914,     0.14014,     0.14114,     0.14214,     0.14314,\n",
      "           0.14414,     0.14515,     0.14615,     0.14715,     0.14815,     0.14915,     0.15015,     0.15115,     0.15215,     0.15315,     0.15415,     0.15516,     0.15616,     0.15716,     0.15816,     0.15916,     0.16016,     0.16116,     0.16216,     0.16316,     0.16416,     0.16517,     0.16617,     0.16717,\n",
      "           0.16817,     0.16917,     0.17017,     0.17117,     0.17217,     0.17317,     0.17417,     0.17518,     0.17618,     0.17718,     0.17818,     0.17918,     0.18018,     0.18118,     0.18218,     0.18318,     0.18418,     0.18519,     0.18619,     0.18719,     0.18819,     0.18919,     0.19019,     0.19119,\n",
      "           0.19219,     0.19319,     0.19419,      0.1952,      0.1962,      0.1972,      0.1982,      0.1992,      0.2002,      0.2012,      0.2022,      0.2032,      0.2042,     0.20521,     0.20621,     0.20721,     0.20821,     0.20921,     0.21021,     0.21121,     0.21221,     0.21321,     0.21421,     0.21522,\n",
      "           0.21622,     0.21722,     0.21822,     0.21922,     0.22022,     0.22122,     0.22222,     0.22322,     0.22422,     0.22523,     0.22623,     0.22723,     0.22823,     0.22923,     0.23023,     0.23123,     0.23223,     0.23323,     0.23423,     0.23524,     0.23624,     0.23724,     0.23824,     0.23924,\n",
      "           0.24024,     0.24124,     0.24224,     0.24324,     0.24424,     0.24525,     0.24625,     0.24725,     0.24825,     0.24925,     0.25025,     0.25125,     0.25225,     0.25325,     0.25425,     0.25526,     0.25626,     0.25726,     0.25826,     0.25926,     0.26026,     0.26126,     0.26226,     0.26326,\n",
      "           0.26426,     0.26527,     0.26627,     0.26727,     0.26827,     0.26927,     0.27027,     0.27127,     0.27227,     0.27327,     0.27427,     0.27528,     0.27628,     0.27728,     0.27828,     0.27928,     0.28028,     0.28128,     0.28228,     0.28328,     0.28428,     0.28529,     0.28629,     0.28729,\n",
      "           0.28829,     0.28929,     0.29029,     0.29129,     0.29229,     0.29329,     0.29429,      0.2953,      0.2963,      0.2973,      0.2983,      0.2993,      0.3003,      0.3013,      0.3023,      0.3033,      0.3043,     0.30531,     0.30631,     0.30731,     0.30831,     0.30931,     0.31031,     0.31131,\n",
      "           0.31231,     0.31331,     0.31431,     0.31532,     0.31632,     0.31732,     0.31832,     0.31932,     0.32032,     0.32132,     0.32232,     0.32332,     0.32432,     0.32533,     0.32633,     0.32733,     0.32833,     0.32933,     0.33033,     0.33133,     0.33233,     0.33333,     0.33433,     0.33534,\n",
      "           0.33634,     0.33734,     0.33834,     0.33934,     0.34034,     0.34134,     0.34234,     0.34334,     0.34434,     0.34535,     0.34635,     0.34735,     0.34835,     0.34935,     0.35035,     0.35135,     0.35235,     0.35335,     0.35435,     0.35536,     0.35636,     0.35736,     0.35836,     0.35936,\n",
      "           0.36036,     0.36136,     0.36236,     0.36336,     0.36436,     0.36537,     0.36637,     0.36737,     0.36837,     0.36937,     0.37037,     0.37137,     0.37237,     0.37337,     0.37437,     0.37538,     0.37638,     0.37738,     0.37838,     0.37938,     0.38038,     0.38138,     0.38238,     0.38338,\n",
      "           0.38438,     0.38539,     0.38639,     0.38739,     0.38839,     0.38939,     0.39039,     0.39139,     0.39239,     0.39339,     0.39439,      0.3954,      0.3964,      0.3974,      0.3984,      0.3994,      0.4004,      0.4014,      0.4024,      0.4034,      0.4044,     0.40541,     0.40641,     0.40741,\n",
      "           0.40841,     0.40941,     0.41041,     0.41141,     0.41241,     0.41341,     0.41441,     0.41542,     0.41642,     0.41742,     0.41842,     0.41942,     0.42042,     0.42142,     0.42242,     0.42342,     0.42442,     0.42543,     0.42643,     0.42743,     0.42843,     0.42943,     0.43043,     0.43143,\n",
      "           0.43243,     0.43343,     0.43443,     0.43544,     0.43644,     0.43744,     0.43844,     0.43944,     0.44044,     0.44144,     0.44244,     0.44344,     0.44444,     0.44545,     0.44645,     0.44745,     0.44845,     0.44945,     0.45045,     0.45145,     0.45245,     0.45345,     0.45445,     0.45546,\n",
      "           0.45646,     0.45746,     0.45846,     0.45946,     0.46046,     0.46146,     0.46246,     0.46346,     0.46446,     0.46547,     0.46647,     0.46747,     0.46847,     0.46947,     0.47047,     0.47147,     0.47247,     0.47347,     0.47447,     0.47548,     0.47648,     0.47748,     0.47848,     0.47948,\n",
      "           0.48048,     0.48148,     0.48248,     0.48348,     0.48448,     0.48549,     0.48649,     0.48749,     0.48849,     0.48949,     0.49049,     0.49149,     0.49249,     0.49349,     0.49449,      0.4955,      0.4965,      0.4975,      0.4985,      0.4995,      0.5005,      0.5015,      0.5025,      0.5035,\n",
      "            0.5045,     0.50551,     0.50651,     0.50751,     0.50851,     0.50951,     0.51051,     0.51151,     0.51251,     0.51351,     0.51451,     0.51552,     0.51652,     0.51752,     0.51852,     0.51952,     0.52052,     0.52152,     0.52252,     0.52352,     0.52452,     0.52553,     0.52653,     0.52753,\n",
      "           0.52853,     0.52953,     0.53053,     0.53153,     0.53253,     0.53353,     0.53453,     0.53554,     0.53654,     0.53754,     0.53854,     0.53954,     0.54054,     0.54154,     0.54254,     0.54354,     0.54454,     0.54555,     0.54655,     0.54755,     0.54855,     0.54955,     0.55055,     0.55155,\n",
      "           0.55255,     0.55355,     0.55455,     0.55556,     0.55656,     0.55756,     0.55856,     0.55956,     0.56056,     0.56156,     0.56256,     0.56356,     0.56456,     0.56557,     0.56657,     0.56757,     0.56857,     0.56957,     0.57057,     0.57157,     0.57257,     0.57357,     0.57457,     0.57558,\n",
      "           0.57658,     0.57758,     0.57858,     0.57958,     0.58058,     0.58158,     0.58258,     0.58358,     0.58458,     0.58559,     0.58659,     0.58759,     0.58859,     0.58959,     0.59059,     0.59159,     0.59259,     0.59359,     0.59459,      0.5956,      0.5966,      0.5976,      0.5986,      0.5996,\n",
      "            0.6006,      0.6016,      0.6026,      0.6036,      0.6046,     0.60561,     0.60661,     0.60761,     0.60861,     0.60961,     0.61061,     0.61161,     0.61261,     0.61361,     0.61461,     0.61562,     0.61662,     0.61762,     0.61862,     0.61962,     0.62062,     0.62162,     0.62262,     0.62362,\n",
      "           0.62462,     0.62563,     0.62663,     0.62763,     0.62863,     0.62963,     0.63063,     0.63163,     0.63263,     0.63363,     0.63463,     0.63564,     0.63664,     0.63764,     0.63864,     0.63964,     0.64064,     0.64164,     0.64264,     0.64364,     0.64464,     0.64565,     0.64665,     0.64765,\n",
      "           0.64865,     0.64965,     0.65065,     0.65165,     0.65265,     0.65365,     0.65465,     0.65566,     0.65666,     0.65766,     0.65866,     0.65966,     0.66066,     0.66166,     0.66266,     0.66366,     0.66466,     0.66567,     0.66667,     0.66767,     0.66867,     0.66967,     0.67067,     0.67167,\n",
      "           0.67267,     0.67367,     0.67467,     0.67568,     0.67668,     0.67768,     0.67868,     0.67968,     0.68068,     0.68168,     0.68268,     0.68368,     0.68468,     0.68569,     0.68669,     0.68769,     0.68869,     0.68969,     0.69069,     0.69169,     0.69269,     0.69369,     0.69469,      0.6957,\n",
      "            0.6967,      0.6977,      0.6987,      0.6997,      0.7007,      0.7017,      0.7027,      0.7037,      0.7047,     0.70571,     0.70671,     0.70771,     0.70871,     0.70971,     0.71071,     0.71171,     0.71271,     0.71371,     0.71471,     0.71572,     0.71672,     0.71772,     0.71872,     0.71972,\n",
      "           0.72072,     0.72172,     0.72272,     0.72372,     0.72472,     0.72573,     0.72673,     0.72773,     0.72873,     0.72973,     0.73073,     0.73173,     0.73273,     0.73373,     0.73473,     0.73574,     0.73674,     0.73774,     0.73874,     0.73974,     0.74074,     0.74174,     0.74274,     0.74374,\n",
      "           0.74474,     0.74575,     0.74675,     0.74775,     0.74875,     0.74975,     0.75075,     0.75175,     0.75275,     0.75375,     0.75475,     0.75576,     0.75676,     0.75776,     0.75876,     0.75976,     0.76076,     0.76176,     0.76276,     0.76376,     0.76476,     0.76577,     0.76677,     0.76777,\n",
      "           0.76877,     0.76977,     0.77077,     0.77177,     0.77277,     0.77377,     0.77477,     0.77578,     0.77678,     0.77778,     0.77878,     0.77978,     0.78078,     0.78178,     0.78278,     0.78378,     0.78478,     0.78579,     0.78679,     0.78779,     0.78879,     0.78979,     0.79079,     0.79179,\n",
      "           0.79279,     0.79379,     0.79479,      0.7958,      0.7968,      0.7978,      0.7988,      0.7998,      0.8008,      0.8018,      0.8028,      0.8038,      0.8048,     0.80581,     0.80681,     0.80781,     0.80881,     0.80981,     0.81081,     0.81181,     0.81281,     0.81381,     0.81481,     0.81582,\n",
      "           0.81682,     0.81782,     0.81882,     0.81982,     0.82082,     0.82182,     0.82282,     0.82382,     0.82482,     0.82583,     0.82683,     0.82783,     0.82883,     0.82983,     0.83083,     0.83183,     0.83283,     0.83383,     0.83483,     0.83584,     0.83684,     0.83784,     0.83884,     0.83984,\n",
      "           0.84084,     0.84184,     0.84284,     0.84384,     0.84484,     0.84585,     0.84685,     0.84785,     0.84885,     0.84985,     0.85085,     0.85185,     0.85285,     0.85385,     0.85485,     0.85586,     0.85686,     0.85786,     0.85886,     0.85986,     0.86086,     0.86186,     0.86286,     0.86386,\n",
      "           0.86486,     0.86587,     0.86687,     0.86787,     0.86887,     0.86987,     0.87087,     0.87187,     0.87287,     0.87387,     0.87487,     0.87588,     0.87688,     0.87788,     0.87888,     0.87988,     0.88088,     0.88188,     0.88288,     0.88388,     0.88488,     0.88589,     0.88689,     0.88789,\n",
      "           0.88889,     0.88989,     0.89089,     0.89189,     0.89289,     0.89389,     0.89489,      0.8959,      0.8969,      0.8979,      0.8989,      0.8999,      0.9009,      0.9019,      0.9029,      0.9039,      0.9049,     0.90591,     0.90691,     0.90791,     0.90891,     0.90991,     0.91091,     0.91191,\n",
      "           0.91291,     0.91391,     0.91491,     0.91592,     0.91692,     0.91792,     0.91892,     0.91992,     0.92092,     0.92192,     0.92292,     0.92392,     0.92492,     0.92593,     0.92693,     0.92793,     0.92893,     0.92993,     0.93093,     0.93193,     0.93293,     0.93393,     0.93493,     0.93594,\n",
      "           0.93694,     0.93794,     0.93894,     0.93994,     0.94094,     0.94194,     0.94294,     0.94394,     0.94494,     0.94595,     0.94695,     0.94795,     0.94895,     0.94995,     0.95095,     0.95195,     0.95295,     0.95395,     0.95495,     0.95596,     0.95696,     0.95796,     0.95896,     0.95996,\n",
      "           0.96096,     0.96196,     0.96296,     0.96396,     0.96496,     0.96597,     0.96697,     0.96797,     0.96897,     0.96997,     0.97097,     0.97197,     0.97297,     0.97397,     0.97497,     0.97598,     0.97698,     0.97798,     0.97898,     0.97998,     0.98098,     0.98198,     0.98298,     0.98398,\n",
      "           0.98498,     0.98599,     0.98699,     0.98799,     0.98899,     0.98999,     0.99099,     0.99199,     0.99299,     0.99399,     0.99499,       0.996,       0.997,       0.998,       0.999,           1]), array([[          1,           1,           1,           1,           1,           1,           1,           1,           1,           1,           1,           1,           1,           1,           1,           1,           1,           1,           1,           1,           1,           1,           1,\n",
      "                  1,           1,           1,           1,           1,           1,           1,           1,           1,           1,           1,           1,           1,           1,           1,           1,           1,           1,           1,           1,           1,           1,           1,\n",
      "                  1,           1,           1,           1,           1,           1,           1,           1,           1,           1,           1,           1,           1,           1,           1,           1,           1,           1,           1,           1,           1,           1,           1,\n",
      "                  1,           1,           1,           1,           1,           1,           1,           1,           1,           1,           1,           1,           1,           1,           1,           1,           1,           1,           1,           1,           1,     0.97561,     0.97561,\n",
      "            0.97561,     0.97561,     0.97561,     0.97561,     0.97561,     0.97561,     0.97561,     0.97561,     0.97561,     0.97561,     0.97561,     0.97561,     0.97561,     0.97561,     0.97561,     0.97561,     0.97561,     0.97561,     0.97561,     0.97561,     0.97561,     0.97561,     0.97561,\n",
      "            0.97561,     0.97561,     0.97561,     0.97561,     0.97561,     0.97561,     0.97561,     0.97561,     0.97561,     0.97561,     0.97561,     0.97561,     0.97561,     0.97561,     0.97561,     0.97561,     0.97561,     0.97561,     0.97561,     0.97561,     0.97561,     0.97561,     0.97561,\n",
      "            0.97561,     0.97561,     0.97561,     0.97561,     0.97561,     0.97561,     0.97561,     0.97561,     0.97561,     0.97561,     0.97561,     0.97561,     0.97561,     0.97561,     0.97561,     0.97561,     0.97561,     0.97561,     0.97561,     0.97561,     0.97561,     0.97561,     0.97561,\n",
      "            0.97561,     0.97561,     0.97561,     0.97561,     0.97561,     0.97561,     0.97561,     0.97561,     0.97561,     0.97561,     0.97561,     0.97561,     0.97561,     0.97561,     0.97561,     0.97561,     0.97561,     0.97561,     0.97561,     0.97561,     0.97561,     0.97561,     0.97561,\n",
      "            0.97561,     0.97561,     0.97561,     0.97561,     0.97561,     0.97561,     0.97561,     0.97561,     0.97561,     0.97561,     0.97561,     0.97561,     0.97561,     0.97561,     0.97561,     0.97561,     0.97561,     0.97561,     0.97561,     0.97561,     0.97561,     0.97561,     0.97561,\n",
      "            0.97561,     0.97561,     0.97561,     0.97561,     0.97561,     0.97561,     0.97561,     0.97561,     0.97561,     0.97561,     0.97561,     0.97561,     0.97561,     0.97561,     0.97561,     0.97561,     0.97561,     0.97561,     0.97561,     0.97561,     0.97561,     0.97561,     0.97561,\n",
      "            0.97561,     0.97561,     0.97561,     0.97561,     0.97561,     0.97561,     0.97561,     0.97561,     0.97561,     0.97561,     0.97561,     0.97561,     0.97561,     0.97561,     0.97561,     0.97561,     0.97561,     0.97561,     0.97561,     0.97561,     0.97561,     0.97561,     0.97561,\n",
      "            0.97561,     0.97561,     0.95349,     0.95349,     0.95349,     0.95349,     0.95349,     0.95349,     0.95238,     0.95238,     0.95238,     0.95238,     0.95238,     0.95238,     0.95238,     0.95238,     0.95238,     0.95238,     0.95238,     0.95238,     0.95238,     0.95238,     0.95238,\n",
      "            0.95238,     0.95238,     0.95238,     0.95238,     0.95238,     0.95238,     0.95238,     0.95238,     0.95238,     0.95238,     0.95238,     0.95238,     0.95238,     0.95238,     0.95238,     0.95238,     0.95238,     0.95238,     0.95238,     0.95238,     0.95238,     0.95238,     0.95238,\n",
      "            0.95238,     0.95238,     0.95238,     0.95238,     0.95238,     0.95238,     0.95238,     0.95238,     0.95238,     0.95238,     0.95238,     0.95238,     0.95238,     0.95238,     0.95238,     0.95238,     0.95238,     0.95238,     0.95238,     0.95238,     0.95238,     0.95238,     0.95238,\n",
      "            0.95238,     0.95238,     0.95238,     0.95238,     0.95238,     0.95238,     0.95238,     0.95238,     0.95238,     0.95238,     0.95238,     0.95238,     0.95238,     0.95238,     0.95238,     0.95238,     0.95238,     0.95238,     0.95238,     0.95238,     0.95238,     0.95238,     0.95238,\n",
      "            0.95238,     0.95238,     0.95238,     0.95238,     0.95238,     0.95238,     0.95238,     0.95238,     0.95238,     0.95238,     0.95238,     0.95238,     0.95238,     0.95238,     0.95238,     0.95238,     0.95238,     0.95238,     0.95238,     0.95238,     0.95238,     0.95238,     0.95238,\n",
      "            0.95238,     0.95238,     0.95238,     0.95238,     0.95238,     0.95238,     0.95238,     0.95238,     0.95238,     0.95238,     0.95238,     0.95238,     0.95238,     0.95238,     0.94521,     0.94521,     0.94521,     0.94521,     0.94521,     0.94521,     0.94521,     0.94521,     0.94521,\n",
      "            0.94521,     0.94521,     0.94521,     0.94521,     0.94521,     0.94521,     0.94521,     0.94521,     0.94521,     0.94521,     0.94521,     0.94521,     0.94521,     0.94521,     0.94521,     0.94521,     0.94521,     0.94521,     0.94521,     0.94521,     0.94521,     0.94521,     0.94521,\n",
      "            0.94521,     0.94521,     0.94521,     0.94521,     0.94521,     0.94521,     0.94521,     0.94521,     0.94521,     0.94521,     0.94521,     0.94521,     0.94521,     0.94521,     0.94521,     0.94521,     0.94521,     0.94521,     0.94521,     0.94521,     0.94521,     0.94521,     0.94521,\n",
      "            0.94521,     0.94521,     0.94521,     0.94253,     0.94253,     0.94253,     0.94253,     0.94253,     0.94253,     0.94253,     0.94253,     0.94253,     0.94253,     0.94253,     0.94253,     0.94253,     0.94253,     0.94253,     0.94253,     0.94253,     0.94253,     0.94253,     0.94253,\n",
      "            0.94253,     0.94253,     0.94253,     0.94253,     0.94253,     0.94253,     0.94253,     0.94253,     0.94253,     0.94253,     0.94253,     0.94253,     0.94253,     0.94253,     0.94253,     0.94253,     0.94253,     0.94253,     0.94253,     0.94253,     0.94253,     0.94253,     0.94253,\n",
      "            0.94253,     0.94253,     0.94253,     0.94253,     0.94253,     0.94253,     0.94253,     0.94253,     0.94253,     0.94253,     0.94253,     0.94253,     0.94253,     0.94253,     0.94253,     0.94253,     0.94253,     0.94253,     0.94253,     0.94253,     0.94253,     0.94253,     0.94253,\n",
      "            0.94253,     0.94253,     0.94253,     0.94253,     0.94253,     0.94253,     0.94253,     0.94253,     0.94253,     0.94253,     0.94253,     0.94253,     0.94253,     0.94253,     0.94253,     0.94253,     0.93258,     0.93258,     0.93258,     0.93258,     0.93258,     0.93258,     0.93258,\n",
      "            0.92473,     0.92473,     0.92473,     0.92473,     0.92473,     0.92473,     0.92473,     0.92473,     0.92473,     0.92473,     0.92473,     0.92473,     0.92473,     0.92473,     0.92473,     0.92473,     0.92473,     0.92473,     0.92473,     0.91579,     0.91579,     0.91579,     0.91579,\n",
      "            0.91579,     0.91579,     0.91429,     0.91429,     0.91429,     0.91429,     0.91429,     0.91429,     0.91429,     0.91429,     0.91429,     0.91429,     0.91429,     0.91429,     0.91429,     0.91429,     0.91429,     0.91429,     0.91429,     0.91429,     0.91429,     0.91429,     0.91429,\n",
      "            0.91429,     0.91429,     0.91429,     0.91429,     0.91429,     0.91429,     0.91429,     0.91429,     0.91429,     0.91429,     0.91429,     0.91429,     0.91429,     0.91429,     0.91429,     0.91429,     0.91429,     0.91429,     0.91429,     0.91429,     0.91429,     0.91429,     0.91429,\n",
      "            0.91429,     0.91429,     0.91429,     0.91429,     0.91429,     0.91429,     0.91429,     0.91429,     0.91429,     0.91429,     0.91429,     0.91429,     0.91429,     0.90741,     0.90741,     0.90741,     0.90741,     0.90741,     0.90741,     0.90741,     0.90741,     0.90741,     0.90741,\n",
      "            0.90741,     0.90741,     0.90741,     0.90678,     0.90678,     0.90678,     0.90678,     0.90678,     0.90678,     0.90678,     0.90678,     0.90678,     0.90678,     0.90678,     0.90678,     0.90678,     0.90678,     0.90678,     0.90678,     0.90678,     0.90678,     0.90678,     0.90678,\n",
      "            0.90678,     0.90678,     0.90678,     0.90678,     0.90678,     0.90678,     0.90678,     0.90678,     0.90678,     0.90678,     0.90678,     0.90678,     0.90678,     0.90678,     0.90678,     0.90678,     0.90678,     0.90678,     0.90678,     0.90678,     0.90678,     0.90678,     0.90678,\n",
      "            0.90678,     0.90678,     0.90678,     0.90678,     0.90678,     0.90678,     0.90678,     0.90678,     0.90678,     0.90678,     0.90678,     0.90678,     0.90678,     0.90678,     0.89431,     0.89431,     0.89431,     0.89431,     0.89431,     0.89431,     0.89431,     0.89431,     0.89431,\n",
      "            0.89431,     0.89431,     0.89431,     0.89431,     0.89431,     0.89431,     0.89431,     0.89431,     0.89431,     0.89431,       0.888,       0.888,       0.888,       0.888,       0.888,       0.888,       0.888,     0.88189,     0.88189,     0.88189,     0.88189,     0.88189,     0.88189,\n",
      "            0.87943,     0.87943,     0.87943,     0.87943,     0.87943,     0.87943,     0.87943,     0.87943,     0.87943,     0.87943,     0.87943,     0.87943,     0.87943,     0.87943,     0.87943,     0.87943,     0.87943,     0.87943,     0.87943,     0.87943,     0.87943,     0.87943,     0.87943,\n",
      "            0.87943,     0.87943,     0.87943,     0.87943,     0.87943,     0.87943,     0.87943,     0.87943,     0.87943,     0.87943,     0.87943,     0.87943,     0.87943,     0.87943,     0.87943,     0.87943,     0.87943,     0.87943,     0.87943,     0.87943,     0.87943,     0.87943,     0.87943,\n",
      "            0.87943,     0.87943,     0.87943,     0.87943,     0.87943,     0.87943,     0.87943,     0.87943,     0.87943,     0.87943,     0.87943,     0.87943,     0.87943,     0.87943,     0.87943,     0.87943,     0.87943,     0.87943,     0.87943,     0.87943,     0.87943,     0.87943,     0.87943,\n",
      "            0.87943,     0.87943,     0.87943,     0.87943,     0.87943,     0.87943,     0.87943,     0.87943,     0.87919,     0.87919,     0.87919,     0.87919,     0.87919,     0.87919,     0.87919,     0.87919,     0.87919,     0.87919,     0.87919,     0.87919,     0.87919,     0.87919,     0.87919,\n",
      "            0.87919,     0.87919,     0.87919,     0.87919,     0.87919,     0.87919,     0.87919,     0.87919,     0.87919,     0.87919,     0.87919,     0.87919,     0.87919,     0.87919,     0.87919,     0.87919,     0.87919,     0.87919,     0.87919,     0.87919,     0.87919,     0.87919,     0.87919,\n",
      "            0.87919,     0.87919,     0.87919,     0.87919,     0.87919,     0.87919,       0.875,       0.875,       0.875,       0.875,       0.875,       0.875,       0.875,       0.875,       0.875,       0.875,       0.875,       0.875,       0.875,     0.85897,     0.85897,     0.85897,     0.85897,\n",
      "            0.85897,     0.85897,     0.85443,     0.85443,     0.85443,     0.85443,     0.85443,     0.85443,     0.85443,     0.85093,     0.85093,     0.85093,     0.85093,     0.85093,     0.85093,     0.85093,     0.85093,     0.85093,     0.85093,     0.85093,     0.85093,     0.84756,     0.84756,\n",
      "            0.84756,     0.84756,     0.84756,     0.84756,     0.84756,     0.84756,     0.84756,     0.84756,     0.84756,     0.84756,     0.84756,     0.83041,     0.83041,     0.83041,     0.83041,     0.83041,     0.83041,     0.83041,     0.83041,     0.83041,     0.83041,     0.83041,     0.83041,\n",
      "            0.83041,     0.83041,     0.83041,     0.83041,     0.83041,     0.83041,     0.83041,     0.80791,     0.80791,     0.80791,     0.80791,     0.80791,     0.80791,     0.70936,     0.70936,     0.70936,     0.70936,     0.70936,     0.70936,     0.70936,     0.67757,     0.67757,     0.67757,\n",
      "            0.67757,     0.67757,     0.67757,     0.63203,     0.63203,     0.63203,     0.63203,     0.63203,     0.63203,     0.63203,     0.31013,     0.31013,     0.31013,     0.31013,     0.31013,     0.31013,     0.23161,     0.23161,     0.23161,     0.23161,     0.23161,     0.23161,     0.22421,\n",
      "            0.22028,     0.21635,     0.21241,     0.20848,     0.20455,     0.20061,     0.19668,     0.19275,     0.18881,     0.18488,     0.18094,     0.17701,     0.17308,     0.16914,     0.16521,     0.16128,     0.15734,     0.15341,     0.14948,     0.14554,     0.14161,     0.13768,     0.13374,\n",
      "            0.12981,     0.12587,     0.12194,     0.11801,     0.11407,     0.11014,     0.10621,     0.10227,     0.09834,    0.094406,    0.090472,    0.086539,    0.082605,    0.078672,    0.074738,    0.070804,    0.066871,    0.062937,    0.059004,     0.05507,    0.051137,    0.047203,    0.043269,\n",
      "           0.039336,    0.035402,    0.031469,    0.027535,    0.023601,    0.019668,    0.015734,    0.011801,   0.0078672,   0.0039336,           0]]), 'Recall', 'Precision'], [array([          0,    0.001001,    0.002002,    0.003003,    0.004004,    0.005005,    0.006006,    0.007007,    0.008008,    0.009009,     0.01001,    0.011011,    0.012012,    0.013013,    0.014014,    0.015015,    0.016016,    0.017017,    0.018018,    0.019019,     0.02002,    0.021021,    0.022022,    0.023023,\n",
      "          0.024024,    0.025025,    0.026026,    0.027027,    0.028028,    0.029029,     0.03003,    0.031031,    0.032032,    0.033033,    0.034034,    0.035035,    0.036036,    0.037037,    0.038038,    0.039039,     0.04004,    0.041041,    0.042042,    0.043043,    0.044044,    0.045045,    0.046046,    0.047047,\n",
      "          0.048048,    0.049049,     0.05005,    0.051051,    0.052052,    0.053053,    0.054054,    0.055055,    0.056056,    0.057057,    0.058058,    0.059059,     0.06006,    0.061061,    0.062062,    0.063063,    0.064064,    0.065065,    0.066066,    0.067067,    0.068068,    0.069069,     0.07007,    0.071071,\n",
      "          0.072072,    0.073073,    0.074074,    0.075075,    0.076076,    0.077077,    0.078078,    0.079079,     0.08008,    0.081081,    0.082082,    0.083083,    0.084084,    0.085085,    0.086086,    0.087087,    0.088088,    0.089089,     0.09009,    0.091091,    0.092092,    0.093093,    0.094094,    0.095095,\n",
      "          0.096096,    0.097097,    0.098098,    0.099099,      0.1001,      0.1011,      0.1021,      0.1031,      0.1041,     0.10511,     0.10611,     0.10711,     0.10811,     0.10911,     0.11011,     0.11111,     0.11211,     0.11311,     0.11411,     0.11512,     0.11612,     0.11712,     0.11812,     0.11912,\n",
      "           0.12012,     0.12112,     0.12212,     0.12312,     0.12412,     0.12513,     0.12613,     0.12713,     0.12813,     0.12913,     0.13013,     0.13113,     0.13213,     0.13313,     0.13413,     0.13514,     0.13614,     0.13714,     0.13814,     0.13914,     0.14014,     0.14114,     0.14214,     0.14314,\n",
      "           0.14414,     0.14515,     0.14615,     0.14715,     0.14815,     0.14915,     0.15015,     0.15115,     0.15215,     0.15315,     0.15415,     0.15516,     0.15616,     0.15716,     0.15816,     0.15916,     0.16016,     0.16116,     0.16216,     0.16316,     0.16416,     0.16517,     0.16617,     0.16717,\n",
      "           0.16817,     0.16917,     0.17017,     0.17117,     0.17217,     0.17317,     0.17417,     0.17518,     0.17618,     0.17718,     0.17818,     0.17918,     0.18018,     0.18118,     0.18218,     0.18318,     0.18418,     0.18519,     0.18619,     0.18719,     0.18819,     0.18919,     0.19019,     0.19119,\n",
      "           0.19219,     0.19319,     0.19419,      0.1952,      0.1962,      0.1972,      0.1982,      0.1992,      0.2002,      0.2012,      0.2022,      0.2032,      0.2042,     0.20521,     0.20621,     0.20721,     0.20821,     0.20921,     0.21021,     0.21121,     0.21221,     0.21321,     0.21421,     0.21522,\n",
      "           0.21622,     0.21722,     0.21822,     0.21922,     0.22022,     0.22122,     0.22222,     0.22322,     0.22422,     0.22523,     0.22623,     0.22723,     0.22823,     0.22923,     0.23023,     0.23123,     0.23223,     0.23323,     0.23423,     0.23524,     0.23624,     0.23724,     0.23824,     0.23924,\n",
      "           0.24024,     0.24124,     0.24224,     0.24324,     0.24424,     0.24525,     0.24625,     0.24725,     0.24825,     0.24925,     0.25025,     0.25125,     0.25225,     0.25325,     0.25425,     0.25526,     0.25626,     0.25726,     0.25826,     0.25926,     0.26026,     0.26126,     0.26226,     0.26326,\n",
      "           0.26426,     0.26527,     0.26627,     0.26727,     0.26827,     0.26927,     0.27027,     0.27127,     0.27227,     0.27327,     0.27427,     0.27528,     0.27628,     0.27728,     0.27828,     0.27928,     0.28028,     0.28128,     0.28228,     0.28328,     0.28428,     0.28529,     0.28629,     0.28729,\n",
      "           0.28829,     0.28929,     0.29029,     0.29129,     0.29229,     0.29329,     0.29429,      0.2953,      0.2963,      0.2973,      0.2983,      0.2993,      0.3003,      0.3013,      0.3023,      0.3033,      0.3043,     0.30531,     0.30631,     0.30731,     0.30831,     0.30931,     0.31031,     0.31131,\n",
      "           0.31231,     0.31331,     0.31431,     0.31532,     0.31632,     0.31732,     0.31832,     0.31932,     0.32032,     0.32132,     0.32232,     0.32332,     0.32432,     0.32533,     0.32633,     0.32733,     0.32833,     0.32933,     0.33033,     0.33133,     0.33233,     0.33333,     0.33433,     0.33534,\n",
      "           0.33634,     0.33734,     0.33834,     0.33934,     0.34034,     0.34134,     0.34234,     0.34334,     0.34434,     0.34535,     0.34635,     0.34735,     0.34835,     0.34935,     0.35035,     0.35135,     0.35235,     0.35335,     0.35435,     0.35536,     0.35636,     0.35736,     0.35836,     0.35936,\n",
      "           0.36036,     0.36136,     0.36236,     0.36336,     0.36436,     0.36537,     0.36637,     0.36737,     0.36837,     0.36937,     0.37037,     0.37137,     0.37237,     0.37337,     0.37437,     0.37538,     0.37638,     0.37738,     0.37838,     0.37938,     0.38038,     0.38138,     0.38238,     0.38338,\n",
      "           0.38438,     0.38539,     0.38639,     0.38739,     0.38839,     0.38939,     0.39039,     0.39139,     0.39239,     0.39339,     0.39439,      0.3954,      0.3964,      0.3974,      0.3984,      0.3994,      0.4004,      0.4014,      0.4024,      0.4034,      0.4044,     0.40541,     0.40641,     0.40741,\n",
      "           0.40841,     0.40941,     0.41041,     0.41141,     0.41241,     0.41341,     0.41441,     0.41542,     0.41642,     0.41742,     0.41842,     0.41942,     0.42042,     0.42142,     0.42242,     0.42342,     0.42442,     0.42543,     0.42643,     0.42743,     0.42843,     0.42943,     0.43043,     0.43143,\n",
      "           0.43243,     0.43343,     0.43443,     0.43544,     0.43644,     0.43744,     0.43844,     0.43944,     0.44044,     0.44144,     0.44244,     0.44344,     0.44444,     0.44545,     0.44645,     0.44745,     0.44845,     0.44945,     0.45045,     0.45145,     0.45245,     0.45345,     0.45445,     0.45546,\n",
      "           0.45646,     0.45746,     0.45846,     0.45946,     0.46046,     0.46146,     0.46246,     0.46346,     0.46446,     0.46547,     0.46647,     0.46747,     0.46847,     0.46947,     0.47047,     0.47147,     0.47247,     0.47347,     0.47447,     0.47548,     0.47648,     0.47748,     0.47848,     0.47948,\n",
      "           0.48048,     0.48148,     0.48248,     0.48348,     0.48448,     0.48549,     0.48649,     0.48749,     0.48849,     0.48949,     0.49049,     0.49149,     0.49249,     0.49349,     0.49449,      0.4955,      0.4965,      0.4975,      0.4985,      0.4995,      0.5005,      0.5015,      0.5025,      0.5035,\n",
      "            0.5045,     0.50551,     0.50651,     0.50751,     0.50851,     0.50951,     0.51051,     0.51151,     0.51251,     0.51351,     0.51451,     0.51552,     0.51652,     0.51752,     0.51852,     0.51952,     0.52052,     0.52152,     0.52252,     0.52352,     0.52452,     0.52553,     0.52653,     0.52753,\n",
      "           0.52853,     0.52953,     0.53053,     0.53153,     0.53253,     0.53353,     0.53453,     0.53554,     0.53654,     0.53754,     0.53854,     0.53954,     0.54054,     0.54154,     0.54254,     0.54354,     0.54454,     0.54555,     0.54655,     0.54755,     0.54855,     0.54955,     0.55055,     0.55155,\n",
      "           0.55255,     0.55355,     0.55455,     0.55556,     0.55656,     0.55756,     0.55856,     0.55956,     0.56056,     0.56156,     0.56256,     0.56356,     0.56456,     0.56557,     0.56657,     0.56757,     0.56857,     0.56957,     0.57057,     0.57157,     0.57257,     0.57357,     0.57457,     0.57558,\n",
      "           0.57658,     0.57758,     0.57858,     0.57958,     0.58058,     0.58158,     0.58258,     0.58358,     0.58458,     0.58559,     0.58659,     0.58759,     0.58859,     0.58959,     0.59059,     0.59159,     0.59259,     0.59359,     0.59459,      0.5956,      0.5966,      0.5976,      0.5986,      0.5996,\n",
      "            0.6006,      0.6016,      0.6026,      0.6036,      0.6046,     0.60561,     0.60661,     0.60761,     0.60861,     0.60961,     0.61061,     0.61161,     0.61261,     0.61361,     0.61461,     0.61562,     0.61662,     0.61762,     0.61862,     0.61962,     0.62062,     0.62162,     0.62262,     0.62362,\n",
      "           0.62462,     0.62563,     0.62663,     0.62763,     0.62863,     0.62963,     0.63063,     0.63163,     0.63263,     0.63363,     0.63463,     0.63564,     0.63664,     0.63764,     0.63864,     0.63964,     0.64064,     0.64164,     0.64264,     0.64364,     0.64464,     0.64565,     0.64665,     0.64765,\n",
      "           0.64865,     0.64965,     0.65065,     0.65165,     0.65265,     0.65365,     0.65465,     0.65566,     0.65666,     0.65766,     0.65866,     0.65966,     0.66066,     0.66166,     0.66266,     0.66366,     0.66466,     0.66567,     0.66667,     0.66767,     0.66867,     0.66967,     0.67067,     0.67167,\n",
      "           0.67267,     0.67367,     0.67467,     0.67568,     0.67668,     0.67768,     0.67868,     0.67968,     0.68068,     0.68168,     0.68268,     0.68368,     0.68468,     0.68569,     0.68669,     0.68769,     0.68869,     0.68969,     0.69069,     0.69169,     0.69269,     0.69369,     0.69469,      0.6957,\n",
      "            0.6967,      0.6977,      0.6987,      0.6997,      0.7007,      0.7017,      0.7027,      0.7037,      0.7047,     0.70571,     0.70671,     0.70771,     0.70871,     0.70971,     0.71071,     0.71171,     0.71271,     0.71371,     0.71471,     0.71572,     0.71672,     0.71772,     0.71872,     0.71972,\n",
      "           0.72072,     0.72172,     0.72272,     0.72372,     0.72472,     0.72573,     0.72673,     0.72773,     0.72873,     0.72973,     0.73073,     0.73173,     0.73273,     0.73373,     0.73473,     0.73574,     0.73674,     0.73774,     0.73874,     0.73974,     0.74074,     0.74174,     0.74274,     0.74374,\n",
      "           0.74474,     0.74575,     0.74675,     0.74775,     0.74875,     0.74975,     0.75075,     0.75175,     0.75275,     0.75375,     0.75475,     0.75576,     0.75676,     0.75776,     0.75876,     0.75976,     0.76076,     0.76176,     0.76276,     0.76376,     0.76476,     0.76577,     0.76677,     0.76777,\n",
      "           0.76877,     0.76977,     0.77077,     0.77177,     0.77277,     0.77377,     0.77477,     0.77578,     0.77678,     0.77778,     0.77878,     0.77978,     0.78078,     0.78178,     0.78278,     0.78378,     0.78478,     0.78579,     0.78679,     0.78779,     0.78879,     0.78979,     0.79079,     0.79179,\n",
      "           0.79279,     0.79379,     0.79479,      0.7958,      0.7968,      0.7978,      0.7988,      0.7998,      0.8008,      0.8018,      0.8028,      0.8038,      0.8048,     0.80581,     0.80681,     0.80781,     0.80881,     0.80981,     0.81081,     0.81181,     0.81281,     0.81381,     0.81481,     0.81582,\n",
      "           0.81682,     0.81782,     0.81882,     0.81982,     0.82082,     0.82182,     0.82282,     0.82382,     0.82482,     0.82583,     0.82683,     0.82783,     0.82883,     0.82983,     0.83083,     0.83183,     0.83283,     0.83383,     0.83483,     0.83584,     0.83684,     0.83784,     0.83884,     0.83984,\n",
      "           0.84084,     0.84184,     0.84284,     0.84384,     0.84484,     0.84585,     0.84685,     0.84785,     0.84885,     0.84985,     0.85085,     0.85185,     0.85285,     0.85385,     0.85485,     0.85586,     0.85686,     0.85786,     0.85886,     0.85986,     0.86086,     0.86186,     0.86286,     0.86386,\n",
      "           0.86486,     0.86587,     0.86687,     0.86787,     0.86887,     0.86987,     0.87087,     0.87187,     0.87287,     0.87387,     0.87487,     0.87588,     0.87688,     0.87788,     0.87888,     0.87988,     0.88088,     0.88188,     0.88288,     0.88388,     0.88488,     0.88589,     0.88689,     0.88789,\n",
      "           0.88889,     0.88989,     0.89089,     0.89189,     0.89289,     0.89389,     0.89489,      0.8959,      0.8969,      0.8979,      0.8989,      0.8999,      0.9009,      0.9019,      0.9029,      0.9039,      0.9049,     0.90591,     0.90691,     0.90791,     0.90891,     0.90991,     0.91091,     0.91191,\n",
      "           0.91291,     0.91391,     0.91491,     0.91592,     0.91692,     0.91792,     0.91892,     0.91992,     0.92092,     0.92192,     0.92292,     0.92392,     0.92492,     0.92593,     0.92693,     0.92793,     0.92893,     0.92993,     0.93093,     0.93193,     0.93293,     0.93393,     0.93493,     0.93594,\n",
      "           0.93694,     0.93794,     0.93894,     0.93994,     0.94094,     0.94194,     0.94294,     0.94394,     0.94494,     0.94595,     0.94695,     0.94795,     0.94895,     0.94995,     0.95095,     0.95195,     0.95295,     0.95395,     0.95495,     0.95596,     0.95696,     0.95796,     0.95896,     0.95996,\n",
      "           0.96096,     0.96196,     0.96296,     0.96396,     0.96496,     0.96597,     0.96697,     0.96797,     0.96897,     0.96997,     0.97097,     0.97197,     0.97297,     0.97397,     0.97497,     0.97598,     0.97698,     0.97798,     0.97898,     0.97998,     0.98098,     0.98198,     0.98298,     0.98398,\n",
      "           0.98498,     0.98599,     0.98699,     0.98799,     0.98899,     0.98999,     0.99099,     0.99199,     0.99299,     0.99399,     0.99499,       0.996,       0.997,       0.998,       0.999,           1]), array([[    0.36364,     0.36428,     0.61341,     0.68674,     0.70735,     0.72279,     0.72819,     0.73568,     0.73654,     0.73754,     0.74187,     0.74372,     0.74725,     0.75013,     0.75247,     0.75777,     0.75885,     0.76205,     0.76549,     0.76622,     0.76695,     0.76878,     0.77079,\n",
      "            0.77226,     0.77381,     0.77562,      0.7762,     0.77679,     0.77738,     0.77865,      0.7798,     0.78044,     0.78108,     0.78158,     0.78041,     0.77924,     0.77872,     0.78002,     0.78108,       0.782,     0.78307,     0.78446,     0.78535,     0.78612,     0.78688,     0.78807,\n",
      "            0.78912,     0.78954,     0.78997,      0.7904,     0.79082,     0.79129,     0.79218,     0.79307,     0.79369,     0.79415,     0.79461,     0.79507,     0.79553,      0.7961,     0.79668,     0.79726,     0.79785,     0.79849,     0.79912,     0.79976,     0.79943,     0.79851,     0.79759,\n",
      "            0.79666,      0.7995,     0.80041,     0.80253,      0.8037,     0.80409,     0.80448,     0.80486,     0.80524,     0.80563,     0.80642,     0.80722,     0.80795,     0.80822,     0.80849,     0.80876,     0.80903,      0.8093,     0.80957,     0.80984,     0.81011,     0.81121,     0.81259,\n",
      "            0.81323,     0.81386,     0.81449,     0.81526,     0.81617,     0.81707,      0.8175,     0.81789,     0.81827,     0.81866,     0.81904,     0.81943,     0.82189,     0.82233,     0.82278,     0.82322,     0.82367,     0.82411,     0.82547,     0.82668,     0.82696,     0.82724,     0.82753,\n",
      "            0.82781,      0.8281,     0.82838,     0.82866,     0.82895,     0.82938,     0.82983,     0.83028,     0.83073,     0.83118,     0.83159,     0.83196,     0.83234,     0.83271,     0.83308,     0.83346,     0.83383,     0.83444,     0.83505,     0.83566,     0.83626,     0.83636,     0.83647,\n",
      "            0.83658,     0.83668,     0.83679,      0.8369,       0.837,     0.83711,     0.83721,     0.83732,     0.83743,     0.83753,     0.83764,     0.83774,     0.83785,     0.83796,     0.83806,     0.83817,     0.83827,     0.83838,     0.83848,     0.83859,      0.8387,     0.83886,     0.83903,\n",
      "             0.8392,     0.83937,     0.83954,     0.83971,     0.83988,     0.84005,     0.84022,     0.84039,     0.84056,     0.84073,      0.8409,     0.84107,     0.84124,      0.8414,     0.84156,     0.84172,     0.84188,     0.84204,      0.8422,     0.84236,     0.84252,     0.84268,     0.84284,\n",
      "              0.843,     0.84316,     0.84331,     0.84347,     0.84363,     0.84392,     0.84423,     0.84454,     0.84485,     0.84517,     0.84548,     0.84579,      0.8461,      0.8467,     0.84736,     0.84803,     0.84869,      0.8493,     0.84991,     0.85052,     0.85113,     0.85138,     0.85159,\n",
      "             0.8518,     0.85201,     0.85221,     0.85242,     0.85263,     0.85284,     0.85305,     0.85326,     0.85347,     0.85367,     0.85412,     0.85466,     0.85519,     0.85573,     0.85626,       0.856,     0.85569,     0.85539,     0.85508,     0.85478,     0.85447,     0.85417,     0.85386,\n",
      "            0.85356,     0.85325,     0.85294,      0.8531,     0.85344,     0.85379,     0.85413,     0.85448,     0.85482,     0.85516,      0.8555,      0.8558,     0.85609,     0.85639,     0.85669,     0.85699,     0.85729,     0.85758,     0.85788,     0.85823,     0.85862,       0.859,     0.85939,\n",
      "            0.85977,     0.86016,     0.86054,     0.86068,     0.86077,     0.86086,     0.86095,     0.86104,     0.86113,     0.86122,     0.86131,      0.8614,     0.86149,     0.86158,     0.86167,     0.86176,     0.86185,     0.86194,     0.86202,     0.86211,      0.8622,     0.86229,     0.86238,\n",
      "            0.86247,     0.86256,     0.86265,     0.86274,     0.86283,     0.86292,     0.86301,      0.8631,     0.86319,     0.86336,     0.86359,     0.86382,     0.86406,     0.86429,     0.86452,     0.86475,     0.86498,     0.86521,     0.86544,     0.86568,     0.86584,     0.86576,     0.86568,\n",
      "             0.8656,     0.86552,     0.86544,     0.86536,     0.86528,      0.8652,     0.86512,     0.86504,     0.86496,     0.86488,      0.8648,     0.86472,     0.86464,     0.86456,     0.86448,      0.8644,     0.86432,     0.86424,     0.86416,     0.86408,       0.864,     0.86392,     0.86384,\n",
      "            0.86376,     0.86368,      0.8636,     0.86352,     0.86344,     0.86336,     0.86328,      0.8632,     0.86312,     0.86304,     0.86296,     0.86288,      0.8628,     0.86272,     0.86264,     0.86256,     0.86248,      0.8624,     0.86192,     0.86132,     0.86072,     0.86012,     0.85952,\n",
      "            0.85893,     0.85871,     0.85852,     0.85833,     0.85814,     0.85795,     0.85776,     0.85757,     0.85738,     0.85719,       0.857,      0.8568,     0.85661,     0.85642,     0.85623,     0.85604,     0.85585,     0.85566,     0.85547,     0.85563,     0.85605,     0.85648,      0.8569,\n",
      "            0.85733,     0.85775,     0.85804,     0.85809,     0.85813,     0.85818,     0.85823,     0.85827,     0.85832,     0.85837,     0.85841,     0.85846,     0.85851,     0.85855,      0.8586,     0.85865,     0.85869,     0.85874,     0.85879,     0.85883,     0.85888,     0.85893,     0.85897,\n",
      "            0.85902,     0.85907,     0.85911,     0.85916,      0.8592,     0.85925,      0.8593,     0.85934,     0.85939,     0.85944,     0.85948,     0.85953,     0.85958,     0.85962,     0.85967,     0.85972,     0.85976,     0.85981,     0.85986,      0.8599,     0.85995,     0.85999,     0.86004,\n",
      "            0.86009,     0.86013,     0.86018,     0.86023,     0.86027,     0.86032,     0.86037,     0.86041,     0.86046,      0.8605,     0.86055,      0.8606,     0.86064,     0.86073,     0.86096,     0.86119,     0.86142,     0.86165,     0.86188,     0.86211,     0.86234,     0.86258,     0.86281,\n",
      "            0.86304,     0.86327,     0.86348,     0.86368,     0.86388,     0.86408,     0.86428,     0.86448,     0.86468,     0.86487,     0.86507,     0.86527,     0.86547,     0.86567,     0.86587,     0.86603,     0.86592,     0.86582,     0.86571,      0.8656,      0.8655,     0.86539,     0.86529,\n",
      "            0.86518,     0.86507,     0.86497,     0.86486,     0.86475,     0.86465,     0.86454,     0.86443,     0.86433,     0.86422,     0.86411,     0.86401,      0.8639,     0.86379,     0.86369,     0.86358,     0.86347,     0.86337,     0.86326,     0.86315,     0.86304,     0.86294,     0.86283,\n",
      "            0.86272,     0.86262,     0.86251,     0.86237,     0.86224,      0.8621,     0.86196,     0.86182,     0.86168,     0.86154,      0.8614,     0.86127,     0.86113,     0.86099,     0.86085,     0.86071,     0.86057,     0.86043,     0.86029,     0.86016,     0.86002,     0.85988,     0.85974,\n",
      "             0.8596,     0.85946,     0.85932,     0.85918,     0.85904,     0.85918,     0.86036,     0.86154,     0.86113,     0.86057,     0.86002,     0.85947,     0.85891,     0.85836,     0.85794,     0.85771,     0.85747,     0.85724,     0.85701,     0.85677,     0.85654,      0.8563,     0.85607,\n",
      "            0.85583,      0.8556,     0.85536,     0.85513,     0.85489,     0.85466,     0.85444,     0.85468,     0.85493,     0.85517,     0.85542,     0.85567,     0.85591,     0.85616,      0.8564,     0.85665,     0.85689,     0.85714,     0.85646,     0.85577,     0.85507,     0.85438,     0.85368,\n",
      "            0.85365,     0.85385,     0.85405,     0.85425,     0.85445,     0.85464,     0.85484,     0.85504,     0.85524,     0.85544,     0.85564,     0.85583,     0.85603,     0.85623,     0.85586,     0.85549,     0.85512,     0.85475,     0.85437,       0.854,     0.85363,     0.85326,     0.85289,\n",
      "            0.85258,     0.85268,     0.85278,     0.85287,     0.85297,     0.85307,     0.85317,     0.85327,     0.85337,     0.85347,     0.85357,     0.85367,     0.85377,     0.85386,     0.85396,     0.85406,     0.85416,     0.85426,     0.85436,     0.85446,     0.85456,     0.85465,     0.85475,\n",
      "            0.85485,     0.85495,     0.85505,     0.85515,     0.85525,     0.85596,     0.85762,     0.85852,     0.85913,     0.85975,     0.86036,     0.85993,     0.85711,     0.85703,     0.85694,     0.85685,     0.85676,     0.85668,     0.85659,      0.8565,     0.85641,     0.85633,     0.85624,\n",
      "            0.85615,     0.85606,     0.85598,     0.85589,      0.8558,     0.85571,     0.85563,     0.85554,     0.85545,     0.85536,     0.85528,     0.85519,      0.8551,     0.85501,     0.85493,     0.85484,     0.85475,     0.85466,     0.85457,     0.85449,      0.8544,     0.85431,     0.85422,\n",
      "            0.85414,     0.85405,     0.85396,     0.85387,     0.85379,      0.8537,     0.85361,     0.85352,     0.85343,     0.85359,     0.85379,     0.85399,     0.85419,     0.85439,     0.85458,     0.85478,     0.85498,     0.85518,     0.85538,     0.85558,     0.85578,     0.85598,     0.85617,\n",
      "            0.85607,     0.85591,     0.85574,     0.85557,     0.85541,     0.85524,     0.85508,     0.85491,     0.85474,     0.85458,     0.85441,     0.85424,     0.85408,     0.85391,     0.85375,     0.85358,     0.85341,     0.85325,     0.85308,     0.85291,     0.85275,     0.85258,      0.8523,\n",
      "            0.85172,     0.85114,     0.85056,     0.84997,     0.84939,     0.84881,     0.84846,     0.84817,     0.84787,     0.84758,     0.84729,       0.847,     0.84671,     0.84642,     0.84612,     0.84583,     0.84554,     0.84525,     0.84495,     0.84432,     0.84357,     0.84282,     0.84208,\n",
      "            0.84133,     0.84092,     0.84069,     0.84047,     0.84024,     0.84002,     0.83979,     0.83956,     0.83934,     0.83911,     0.83889,     0.83866,     0.83844,     0.83821,     0.83798,     0.83776,     0.83753,     0.83731,     0.83555,     0.83329,     0.83313,     0.83297,     0.83281,\n",
      "            0.83264,     0.83248,     0.83232,     0.83215,     0.83199,     0.83183,     0.83167,      0.8315,     0.83134,     0.83118,     0.83101,     0.83085,     0.83069,     0.83052,     0.83036,      0.8302,     0.83003,     0.82987,     0.82971,     0.82954,     0.83209,     0.83055,     0.82902,\n",
      "            0.82784,     0.82698,     0.82613,     0.82528,     0.82442,     0.82372,     0.82305,     0.82237,     0.82169,     0.82102,     0.82034,     0.81882,     0.81731,     0.81184,     0.81033,     0.80881,     0.80762,     0.80663,     0.80564,     0.80465,     0.80395,     0.80358,     0.80321,\n",
      "            0.80284,     0.80247,      0.8021,     0.80173,     0.80136,     0.80099,     0.80062,     0.80024,     0.79964,     0.79859,     0.79753,     0.79648,     0.79577,     0.79557,     0.79537,     0.79517,     0.79497,     0.79478,     0.79458,     0.79438,     0.79418,     0.79398,     0.79378,\n",
      "            0.79358,     0.79339,     0.79319,     0.79299,     0.79279,     0.79259,     0.79239,     0.79219,     0.79199,     0.79179,     0.78826,     0.78492,     0.78617,     0.78654,     0.78691,     0.78727,     0.78764,       0.788,     0.78837,     0.78873,       0.785,     0.78565,     0.78631,\n",
      "            0.78696,     0.78303,     0.78423,     0.78542,     0.78112,     0.78063,     0.78014,     0.77965,     0.77916,     0.77867,     0.77818,     0.77769,      0.7772,     0.77664,     0.77601,     0.77537,     0.77474,     0.77411,     0.77348,     0.77284,     0.77295,     0.77364,     0.77433,\n",
      "            0.77501,     0.77617,     0.77781,      0.7768,     0.77499,     0.77239,     0.76906,     0.76848,      0.7679,     0.76733,     0.76675,     0.76617,     0.76559,     0.76501,     0.76307,     0.75847,     0.75398,     0.75179,     0.74931,     0.74663,     0.74451,     0.74248,     0.73784,\n",
      "            0.73516,     0.73289,     0.73079,     0.73211,     0.71789,     0.71351,     0.71213,     0.71099,     0.70985,      0.7087,     0.70453,     0.69219,     0.69077,     0.68935,     0.68793,     0.68936,      0.6872,     0.68535,     0.67832,     0.67398,     0.67311,     0.67467,     0.67358,\n",
      "            0.67249,      0.6714,      0.6703,     0.66987,     0.67172,     0.66976,     0.66779,     0.66539,     0.66242,     0.65374,     0.64955,     0.64831,     0.64706,     0.64581,     0.64456,     0.64009,      0.6353,     0.63209,      0.6304,     0.62872,     0.62683,     0.62154,     0.61928,\n",
      "            0.61719,     0.61459,     0.60924,     0.60602,     0.60176,     0.59988,     0.59557,     0.59056,     0.58057,     0.57759,     0.57412,     0.56882,     0.56013,     0.55558,     0.54362,      0.5431,     0.53635,     0.52628,     0.50531,     0.47395,     0.45952,     0.45174,     0.44621,\n",
      "            0.43955,     0.42532,     0.41752,     0.40832,     0.40932,     0.40601,     0.39977,     0.39127,     0.37151,     0.34691,     0.31252,     0.29396,     0.27298,     0.26535,     0.24755,     0.23254,     0.22563,     0.20453,     0.18794,     0.17665,     0.16978,     0.16423,     0.16373,\n",
      "            0.15983,     0.15585,     0.15212,     0.14911,     0.14608,     0.14305,     0.13651,     0.12946,     0.12503,     0.12057,     0.10064,    0.090671,    0.073464,    0.069699,    0.065918,    0.062123,    0.037231,    0.034909,    0.032582,     0.03025,    0.027912,    0.025569,    0.022309,\n",
      "           0.018845,    0.015368,           0,           0,           0,           0,           0,           0,           0,           0,           0]]), 'Confidence', 'F1'], [array([          0,    0.001001,    0.002002,    0.003003,    0.004004,    0.005005,    0.006006,    0.007007,    0.008008,    0.009009,     0.01001,    0.011011,    0.012012,    0.013013,    0.014014,    0.015015,    0.016016,    0.017017,    0.018018,    0.019019,     0.02002,    0.021021,    0.022022,    0.023023,\n",
      "          0.024024,    0.025025,    0.026026,    0.027027,    0.028028,    0.029029,     0.03003,    0.031031,    0.032032,    0.033033,    0.034034,    0.035035,    0.036036,    0.037037,    0.038038,    0.039039,     0.04004,    0.041041,    0.042042,    0.043043,    0.044044,    0.045045,    0.046046,    0.047047,\n",
      "          0.048048,    0.049049,     0.05005,    0.051051,    0.052052,    0.053053,    0.054054,    0.055055,    0.056056,    0.057057,    0.058058,    0.059059,     0.06006,    0.061061,    0.062062,    0.063063,    0.064064,    0.065065,    0.066066,    0.067067,    0.068068,    0.069069,     0.07007,    0.071071,\n",
      "          0.072072,    0.073073,    0.074074,    0.075075,    0.076076,    0.077077,    0.078078,    0.079079,     0.08008,    0.081081,    0.082082,    0.083083,    0.084084,    0.085085,    0.086086,    0.087087,    0.088088,    0.089089,     0.09009,    0.091091,    0.092092,    0.093093,    0.094094,    0.095095,\n",
      "          0.096096,    0.097097,    0.098098,    0.099099,      0.1001,      0.1011,      0.1021,      0.1031,      0.1041,     0.10511,     0.10611,     0.10711,     0.10811,     0.10911,     0.11011,     0.11111,     0.11211,     0.11311,     0.11411,     0.11512,     0.11612,     0.11712,     0.11812,     0.11912,\n",
      "           0.12012,     0.12112,     0.12212,     0.12312,     0.12412,     0.12513,     0.12613,     0.12713,     0.12813,     0.12913,     0.13013,     0.13113,     0.13213,     0.13313,     0.13413,     0.13514,     0.13614,     0.13714,     0.13814,     0.13914,     0.14014,     0.14114,     0.14214,     0.14314,\n",
      "           0.14414,     0.14515,     0.14615,     0.14715,     0.14815,     0.14915,     0.15015,     0.15115,     0.15215,     0.15315,     0.15415,     0.15516,     0.15616,     0.15716,     0.15816,     0.15916,     0.16016,     0.16116,     0.16216,     0.16316,     0.16416,     0.16517,     0.16617,     0.16717,\n",
      "           0.16817,     0.16917,     0.17017,     0.17117,     0.17217,     0.17317,     0.17417,     0.17518,     0.17618,     0.17718,     0.17818,     0.17918,     0.18018,     0.18118,     0.18218,     0.18318,     0.18418,     0.18519,     0.18619,     0.18719,     0.18819,     0.18919,     0.19019,     0.19119,\n",
      "           0.19219,     0.19319,     0.19419,      0.1952,      0.1962,      0.1972,      0.1982,      0.1992,      0.2002,      0.2012,      0.2022,      0.2032,      0.2042,     0.20521,     0.20621,     0.20721,     0.20821,     0.20921,     0.21021,     0.21121,     0.21221,     0.21321,     0.21421,     0.21522,\n",
      "           0.21622,     0.21722,     0.21822,     0.21922,     0.22022,     0.22122,     0.22222,     0.22322,     0.22422,     0.22523,     0.22623,     0.22723,     0.22823,     0.22923,     0.23023,     0.23123,     0.23223,     0.23323,     0.23423,     0.23524,     0.23624,     0.23724,     0.23824,     0.23924,\n",
      "           0.24024,     0.24124,     0.24224,     0.24324,     0.24424,     0.24525,     0.24625,     0.24725,     0.24825,     0.24925,     0.25025,     0.25125,     0.25225,     0.25325,     0.25425,     0.25526,     0.25626,     0.25726,     0.25826,     0.25926,     0.26026,     0.26126,     0.26226,     0.26326,\n",
      "           0.26426,     0.26527,     0.26627,     0.26727,     0.26827,     0.26927,     0.27027,     0.27127,     0.27227,     0.27327,     0.27427,     0.27528,     0.27628,     0.27728,     0.27828,     0.27928,     0.28028,     0.28128,     0.28228,     0.28328,     0.28428,     0.28529,     0.28629,     0.28729,\n",
      "           0.28829,     0.28929,     0.29029,     0.29129,     0.29229,     0.29329,     0.29429,      0.2953,      0.2963,      0.2973,      0.2983,      0.2993,      0.3003,      0.3013,      0.3023,      0.3033,      0.3043,     0.30531,     0.30631,     0.30731,     0.30831,     0.30931,     0.31031,     0.31131,\n",
      "           0.31231,     0.31331,     0.31431,     0.31532,     0.31632,     0.31732,     0.31832,     0.31932,     0.32032,     0.32132,     0.32232,     0.32332,     0.32432,     0.32533,     0.32633,     0.32733,     0.32833,     0.32933,     0.33033,     0.33133,     0.33233,     0.33333,     0.33433,     0.33534,\n",
      "           0.33634,     0.33734,     0.33834,     0.33934,     0.34034,     0.34134,     0.34234,     0.34334,     0.34434,     0.34535,     0.34635,     0.34735,     0.34835,     0.34935,     0.35035,     0.35135,     0.35235,     0.35335,     0.35435,     0.35536,     0.35636,     0.35736,     0.35836,     0.35936,\n",
      "           0.36036,     0.36136,     0.36236,     0.36336,     0.36436,     0.36537,     0.36637,     0.36737,     0.36837,     0.36937,     0.37037,     0.37137,     0.37237,     0.37337,     0.37437,     0.37538,     0.37638,     0.37738,     0.37838,     0.37938,     0.38038,     0.38138,     0.38238,     0.38338,\n",
      "           0.38438,     0.38539,     0.38639,     0.38739,     0.38839,     0.38939,     0.39039,     0.39139,     0.39239,     0.39339,     0.39439,      0.3954,      0.3964,      0.3974,      0.3984,      0.3994,      0.4004,      0.4014,      0.4024,      0.4034,      0.4044,     0.40541,     0.40641,     0.40741,\n",
      "           0.40841,     0.40941,     0.41041,     0.41141,     0.41241,     0.41341,     0.41441,     0.41542,     0.41642,     0.41742,     0.41842,     0.41942,     0.42042,     0.42142,     0.42242,     0.42342,     0.42442,     0.42543,     0.42643,     0.42743,     0.42843,     0.42943,     0.43043,     0.43143,\n",
      "           0.43243,     0.43343,     0.43443,     0.43544,     0.43644,     0.43744,     0.43844,     0.43944,     0.44044,     0.44144,     0.44244,     0.44344,     0.44444,     0.44545,     0.44645,     0.44745,     0.44845,     0.44945,     0.45045,     0.45145,     0.45245,     0.45345,     0.45445,     0.45546,\n",
      "           0.45646,     0.45746,     0.45846,     0.45946,     0.46046,     0.46146,     0.46246,     0.46346,     0.46446,     0.46547,     0.46647,     0.46747,     0.46847,     0.46947,     0.47047,     0.47147,     0.47247,     0.47347,     0.47447,     0.47548,     0.47648,     0.47748,     0.47848,     0.47948,\n",
      "           0.48048,     0.48148,     0.48248,     0.48348,     0.48448,     0.48549,     0.48649,     0.48749,     0.48849,     0.48949,     0.49049,     0.49149,     0.49249,     0.49349,     0.49449,      0.4955,      0.4965,      0.4975,      0.4985,      0.4995,      0.5005,      0.5015,      0.5025,      0.5035,\n",
      "            0.5045,     0.50551,     0.50651,     0.50751,     0.50851,     0.50951,     0.51051,     0.51151,     0.51251,     0.51351,     0.51451,     0.51552,     0.51652,     0.51752,     0.51852,     0.51952,     0.52052,     0.52152,     0.52252,     0.52352,     0.52452,     0.52553,     0.52653,     0.52753,\n",
      "           0.52853,     0.52953,     0.53053,     0.53153,     0.53253,     0.53353,     0.53453,     0.53554,     0.53654,     0.53754,     0.53854,     0.53954,     0.54054,     0.54154,     0.54254,     0.54354,     0.54454,     0.54555,     0.54655,     0.54755,     0.54855,     0.54955,     0.55055,     0.55155,\n",
      "           0.55255,     0.55355,     0.55455,     0.55556,     0.55656,     0.55756,     0.55856,     0.55956,     0.56056,     0.56156,     0.56256,     0.56356,     0.56456,     0.56557,     0.56657,     0.56757,     0.56857,     0.56957,     0.57057,     0.57157,     0.57257,     0.57357,     0.57457,     0.57558,\n",
      "           0.57658,     0.57758,     0.57858,     0.57958,     0.58058,     0.58158,     0.58258,     0.58358,     0.58458,     0.58559,     0.58659,     0.58759,     0.58859,     0.58959,     0.59059,     0.59159,     0.59259,     0.59359,     0.59459,      0.5956,      0.5966,      0.5976,      0.5986,      0.5996,\n",
      "            0.6006,      0.6016,      0.6026,      0.6036,      0.6046,     0.60561,     0.60661,     0.60761,     0.60861,     0.60961,     0.61061,     0.61161,     0.61261,     0.61361,     0.61461,     0.61562,     0.61662,     0.61762,     0.61862,     0.61962,     0.62062,     0.62162,     0.62262,     0.62362,\n",
      "           0.62462,     0.62563,     0.62663,     0.62763,     0.62863,     0.62963,     0.63063,     0.63163,     0.63263,     0.63363,     0.63463,     0.63564,     0.63664,     0.63764,     0.63864,     0.63964,     0.64064,     0.64164,     0.64264,     0.64364,     0.64464,     0.64565,     0.64665,     0.64765,\n",
      "           0.64865,     0.64965,     0.65065,     0.65165,     0.65265,     0.65365,     0.65465,     0.65566,     0.65666,     0.65766,     0.65866,     0.65966,     0.66066,     0.66166,     0.66266,     0.66366,     0.66466,     0.66567,     0.66667,     0.66767,     0.66867,     0.66967,     0.67067,     0.67167,\n",
      "           0.67267,     0.67367,     0.67467,     0.67568,     0.67668,     0.67768,     0.67868,     0.67968,     0.68068,     0.68168,     0.68268,     0.68368,     0.68468,     0.68569,     0.68669,     0.68769,     0.68869,     0.68969,     0.69069,     0.69169,     0.69269,     0.69369,     0.69469,      0.6957,\n",
      "            0.6967,      0.6977,      0.6987,      0.6997,      0.7007,      0.7017,      0.7027,      0.7037,      0.7047,     0.70571,     0.70671,     0.70771,     0.70871,     0.70971,     0.71071,     0.71171,     0.71271,     0.71371,     0.71471,     0.71572,     0.71672,     0.71772,     0.71872,     0.71972,\n",
      "           0.72072,     0.72172,     0.72272,     0.72372,     0.72472,     0.72573,     0.72673,     0.72773,     0.72873,     0.72973,     0.73073,     0.73173,     0.73273,     0.73373,     0.73473,     0.73574,     0.73674,     0.73774,     0.73874,     0.73974,     0.74074,     0.74174,     0.74274,     0.74374,\n",
      "           0.74474,     0.74575,     0.74675,     0.74775,     0.74875,     0.74975,     0.75075,     0.75175,     0.75275,     0.75375,     0.75475,     0.75576,     0.75676,     0.75776,     0.75876,     0.75976,     0.76076,     0.76176,     0.76276,     0.76376,     0.76476,     0.76577,     0.76677,     0.76777,\n",
      "           0.76877,     0.76977,     0.77077,     0.77177,     0.77277,     0.77377,     0.77477,     0.77578,     0.77678,     0.77778,     0.77878,     0.77978,     0.78078,     0.78178,     0.78278,     0.78378,     0.78478,     0.78579,     0.78679,     0.78779,     0.78879,     0.78979,     0.79079,     0.79179,\n",
      "           0.79279,     0.79379,     0.79479,      0.7958,      0.7968,      0.7978,      0.7988,      0.7998,      0.8008,      0.8018,      0.8028,      0.8038,      0.8048,     0.80581,     0.80681,     0.80781,     0.80881,     0.80981,     0.81081,     0.81181,     0.81281,     0.81381,     0.81481,     0.81582,\n",
      "           0.81682,     0.81782,     0.81882,     0.81982,     0.82082,     0.82182,     0.82282,     0.82382,     0.82482,     0.82583,     0.82683,     0.82783,     0.82883,     0.82983,     0.83083,     0.83183,     0.83283,     0.83383,     0.83483,     0.83584,     0.83684,     0.83784,     0.83884,     0.83984,\n",
      "           0.84084,     0.84184,     0.84284,     0.84384,     0.84484,     0.84585,     0.84685,     0.84785,     0.84885,     0.84985,     0.85085,     0.85185,     0.85285,     0.85385,     0.85485,     0.85586,     0.85686,     0.85786,     0.85886,     0.85986,     0.86086,     0.86186,     0.86286,     0.86386,\n",
      "           0.86486,     0.86587,     0.86687,     0.86787,     0.86887,     0.86987,     0.87087,     0.87187,     0.87287,     0.87387,     0.87487,     0.87588,     0.87688,     0.87788,     0.87888,     0.87988,     0.88088,     0.88188,     0.88288,     0.88388,     0.88488,     0.88589,     0.88689,     0.88789,\n",
      "           0.88889,     0.88989,     0.89089,     0.89189,     0.89289,     0.89389,     0.89489,      0.8959,      0.8969,      0.8979,      0.8989,      0.8999,      0.9009,      0.9019,      0.9029,      0.9039,      0.9049,     0.90591,     0.90691,     0.90791,     0.90891,     0.90991,     0.91091,     0.91191,\n",
      "           0.91291,     0.91391,     0.91491,     0.91592,     0.91692,     0.91792,     0.91892,     0.91992,     0.92092,     0.92192,     0.92292,     0.92392,     0.92492,     0.92593,     0.92693,     0.92793,     0.92893,     0.92993,     0.93093,     0.93193,     0.93293,     0.93393,     0.93493,     0.93594,\n",
      "           0.93694,     0.93794,     0.93894,     0.93994,     0.94094,     0.94194,     0.94294,     0.94394,     0.94494,     0.94595,     0.94695,     0.94795,     0.94895,     0.94995,     0.95095,     0.95195,     0.95295,     0.95395,     0.95495,     0.95596,     0.95696,     0.95796,     0.95896,     0.95996,\n",
      "           0.96096,     0.96196,     0.96296,     0.96396,     0.96496,     0.96597,     0.96697,     0.96797,     0.96897,     0.96997,     0.97097,     0.97197,     0.97297,     0.97397,     0.97497,     0.97598,     0.97698,     0.97798,     0.97898,     0.97998,     0.98098,     0.98198,     0.98298,     0.98398,\n",
      "           0.98498,     0.98599,     0.98699,     0.98799,     0.98899,     0.98999,     0.99099,     0.99199,     0.99299,     0.99399,     0.99499,       0.996,       0.997,       0.998,       0.999,           1]), array([[    0.22527,     0.22576,     0.45764,     0.54437,     0.57074,     0.59111,     0.59838,     0.60856,     0.60973,     0.61111,     0.61708,     0.61964,     0.62456,     0.62859,     0.63188,     0.64245,     0.64399,     0.64861,     0.65362,     0.65468,     0.65575,     0.65843,     0.66138,\n",
      "            0.66355,     0.66584,     0.66852,      0.6694,     0.67027,     0.67114,     0.67305,     0.67476,     0.67572,     0.67668,     0.67753,     0.67699,     0.67645,     0.67657,     0.67854,     0.68014,     0.68153,     0.68317,     0.68529,     0.68665,     0.68782,     0.68899,     0.69082,\n",
      "            0.69243,     0.69308,     0.69374,      0.6944,     0.69505,     0.69577,     0.69716,     0.69854,     0.69949,     0.70021,     0.70093,     0.70164,     0.70236,     0.70325,     0.70416,     0.70507,     0.70598,     0.70698,     0.70798,     0.70898,     0.70911,     0.70872,     0.70832,\n",
      "            0.70792,     0.71243,     0.71387,     0.71724,     0.71913,     0.71974,     0.72036,     0.72098,      0.7216,     0.72221,     0.72349,     0.72478,     0.72595,     0.72639,     0.72682,     0.72726,      0.7277,     0.72813,     0.72857,     0.72901,     0.72945,     0.73123,     0.73349,\n",
      "            0.73452,     0.73556,     0.73659,     0.73785,     0.73933,     0.74082,     0.74152,     0.74216,     0.74279,     0.74343,     0.74406,      0.7447,     0.74878,     0.74951,     0.75025,     0.75099,     0.75173,     0.75247,     0.75474,     0.75676,     0.75724,     0.75771,     0.75819,\n",
      "            0.75867,     0.75914,     0.75962,      0.7601,     0.76057,      0.7613,     0.76206,     0.76282,     0.76358,     0.76434,     0.76504,     0.76567,      0.7663,     0.76693,     0.76757,      0.7682,     0.76884,     0.76988,     0.77091,     0.77195,     0.77297,     0.77316,     0.77334,\n",
      "            0.77352,      0.7737,     0.77388,     0.77406,     0.77425,     0.77443,     0.77461,     0.77479,     0.77497,     0.77515,     0.77533,     0.77552,      0.7757,     0.77588,     0.77606,     0.77624,     0.77642,     0.77661,     0.77679,     0.77697,     0.77715,     0.77743,     0.77772,\n",
      "            0.77802,     0.77831,      0.7786,     0.77889,     0.77919,     0.77948,     0.77977,     0.78007,     0.78036,     0.78065,     0.78095,     0.78124,     0.78153,      0.7818,     0.78208,     0.78236,     0.78263,     0.78291,     0.78319,     0.78346,     0.78374,     0.78401,     0.78429,\n",
      "            0.78457,     0.78484,     0.78512,      0.7854,     0.78567,     0.78617,     0.78671,     0.78725,     0.78779,     0.78833,     0.78887,     0.78941,     0.78995,       0.791,     0.79217,     0.79333,      0.7945,     0.79557,     0.79663,      0.7977,     0.79877,     0.79921,     0.79958,\n",
      "            0.79995,     0.80032,     0.80069,     0.80106,     0.80143,     0.80179,     0.80216,     0.80253,      0.8029,     0.80327,     0.80406,     0.80501,     0.80596,     0.80691,     0.80786,     0.80782,     0.80772,     0.80762,     0.80753,     0.80743,     0.80733,     0.80724,     0.80714,\n",
      "            0.80704,     0.80694,     0.80685,     0.80725,     0.80787,     0.80849,     0.80911,     0.80973,     0.81035,     0.81097,     0.81157,      0.8121,     0.81264,     0.81318,     0.81372,     0.81425,     0.81479,     0.81533,     0.81587,      0.8165,      0.8172,      0.8179,      0.8186,\n",
      "            0.81929,     0.81999,     0.82069,     0.82095,     0.82111,     0.82127,     0.82143,      0.8216,     0.82176,     0.82192,     0.82209,     0.82225,     0.82241,     0.82258,     0.82274,      0.8229,     0.82307,     0.82323,     0.82339,     0.82356,     0.82372,     0.82388,     0.82405,\n",
      "            0.82421,     0.82437,     0.82454,      0.8247,     0.82486,     0.82503,     0.82519,     0.82535,     0.82552,     0.82583,     0.82626,     0.82668,     0.82711,     0.82753,     0.82796,     0.82838,     0.82881,     0.82923,     0.82966,     0.83008,      0.8304,     0.83038,     0.83036,\n",
      "            0.83034,     0.83031,     0.83029,     0.83027,     0.83024,     0.83022,      0.8302,     0.83017,     0.83015,     0.83013,     0.83011,     0.83008,     0.83006,     0.83004,     0.83001,     0.82999,     0.82997,     0.82994,     0.82992,      0.8299,     0.82988,     0.82985,     0.82983,\n",
      "            0.82981,     0.82978,     0.82976,     0.82974,     0.82972,     0.82969,     0.82967,     0.82965,     0.82962,      0.8296,     0.82958,     0.82955,     0.82953,     0.82951,     0.82949,     0.82946,     0.82944,     0.82942,     0.82928,      0.8291,     0.82893,     0.82876,     0.82858,\n",
      "            0.82841,     0.82835,     0.82829,     0.82824,     0.82818,     0.82813,     0.82807,     0.82802,     0.82796,      0.8279,     0.82785,     0.82779,     0.82774,     0.82768,     0.82763,     0.82757,     0.82752,     0.82746,      0.8274,     0.82784,     0.82863,     0.82943,     0.83023,\n",
      "            0.83102,     0.83182,     0.83237,     0.83245,     0.83254,     0.83263,     0.83272,      0.8328,     0.83289,     0.83298,     0.83307,     0.83316,     0.83324,     0.83333,     0.83342,     0.83351,     0.83359,     0.83368,     0.83377,     0.83386,     0.83395,     0.83403,     0.83412,\n",
      "            0.83421,      0.8343,     0.83438,     0.83447,     0.83456,     0.83465,     0.83473,     0.83482,     0.83491,       0.835,     0.83509,     0.83517,     0.83526,     0.83535,     0.83544,     0.83552,     0.83561,      0.8357,     0.83579,     0.83588,     0.83596,     0.83605,     0.83614,\n",
      "            0.83623,     0.83631,      0.8364,     0.83649,     0.83658,     0.83666,     0.83675,     0.83684,     0.83693,     0.83702,      0.8371,     0.83719,     0.83728,     0.83743,     0.83787,     0.83831,     0.83875,     0.83919,     0.83963,     0.84007,      0.8405,     0.84094,     0.84138,\n",
      "            0.84182,     0.84226,     0.84266,     0.84304,     0.84342,      0.8438,     0.84418,     0.84456,     0.84494,     0.84532,      0.8457,     0.84608,     0.84647,     0.84685,     0.84723,     0.84756,     0.84753,      0.8475,     0.84747,     0.84744,     0.84742,     0.84739,     0.84736,\n",
      "            0.84733,      0.8473,     0.84728,     0.84725,     0.84722,     0.84719,     0.84716,     0.84714,     0.84711,     0.84708,     0.84705,     0.84702,     0.84699,     0.84697,     0.84694,     0.84691,     0.84688,     0.84685,     0.84683,      0.8468,     0.84677,     0.84674,     0.84671,\n",
      "            0.84668,     0.84666,     0.84663,     0.84659,     0.84656,     0.84652,     0.84648,     0.84645,     0.84641,     0.84637,     0.84633,      0.8463,     0.84626,     0.84622,     0.84619,     0.84615,     0.84611,     0.84608,     0.84604,       0.846,     0.84597,     0.84593,     0.84589,\n",
      "            0.84586,     0.84582,     0.84578,     0.84575,     0.84571,     0.84616,     0.84846,     0.85075,      0.8508,     0.85066,     0.85051,     0.85037,     0.85022,     0.85008,     0.84997,     0.84991,     0.84985,     0.84979,     0.84973,     0.84967,     0.84961,     0.84954,     0.84948,\n",
      "            0.84942,     0.84936,      0.8493,     0.84924,     0.84918,     0.84912,     0.84907,     0.84955,     0.85004,     0.85053,     0.85101,      0.8515,     0.85199,     0.85247,     0.85296,     0.85345,     0.85393,     0.85442,     0.85426,     0.85408,      0.8539,     0.85373,     0.85355,\n",
      "             0.8538,      0.8542,      0.8546,     0.85499,     0.85539,     0.85579,     0.85619,     0.85658,     0.85698,     0.85738,     0.85778,     0.85818,     0.85857,     0.85897,     0.85888,     0.85879,      0.8587,     0.85861,     0.85851,     0.85842,     0.85833,     0.85824,     0.85814,\n",
      "            0.85809,     0.85829,     0.85849,     0.85869,      0.8589,      0.8591,      0.8593,      0.8595,      0.8597,      0.8599,      0.8601,      0.8603,      0.8605,      0.8607,      0.8609,      0.8611,     0.86131,     0.86151,     0.86171,     0.86191,     0.86211,     0.86231,     0.86251,\n",
      "            0.86271,     0.86291,     0.86311,     0.86331,     0.86351,     0.86497,     0.86837,     0.87021,     0.87147,     0.87274,     0.87401,      0.8748,     0.87417,     0.87415,     0.87413,     0.87411,     0.87409,     0.87407,     0.87405,     0.87403,     0.87401,     0.87399,     0.87397,\n",
      "            0.87395,     0.87393,     0.87391,     0.87389,     0.87387,     0.87385,     0.87383,     0.87381,     0.87379,     0.87377,     0.87375,     0.87373,     0.87371,     0.87369,     0.87367,     0.87365,     0.87363,     0.87361,     0.87359,     0.87357,     0.87355,     0.87353,     0.87351,\n",
      "            0.87349,     0.87347,     0.87345,     0.87344,     0.87342,      0.8734,     0.87338,     0.87336,     0.87334,     0.87368,      0.8741,     0.87452,     0.87494,     0.87536,     0.87577,     0.87619,     0.87661,     0.87703,     0.87745,     0.87787,     0.87828,      0.8787,     0.87912,\n",
      "            0.87916,     0.87913,     0.87909,     0.87906,     0.87902,     0.87898,     0.87895,     0.87891,     0.87888,     0.87884,      0.8788,     0.87877,     0.87873,     0.87869,     0.87866,     0.87862,     0.87859,     0.87855,     0.87851,     0.87848,     0.87844,      0.8784,     0.87834,\n",
      "            0.87822,     0.87809,     0.87796,     0.87783,     0.87771,     0.87758,      0.8775,     0.87744,     0.87737,     0.87731,     0.87724,     0.87718,     0.87711,     0.87705,     0.87699,     0.87692,     0.87686,     0.87679,     0.87673,     0.87659,     0.87642,     0.87625,     0.87609,\n",
      "            0.87592,     0.87583,     0.87578,     0.87573,     0.87568,     0.87563,     0.87558,     0.87553,     0.87548,     0.87543,     0.87538,     0.87532,     0.87527,     0.87522,     0.87517,     0.87512,     0.87507,     0.87502,     0.87462,     0.87412,     0.87408,     0.87404,     0.87401,\n",
      "            0.87397,     0.87393,     0.87389,     0.87386,     0.87382,     0.87378,     0.87375,     0.87371,     0.87367,     0.87364,      0.8736,     0.87356,     0.87352,     0.87349,     0.87345,     0.87341,     0.87338,     0.87334,      0.8733,     0.87327,      0.8794,     0.87907,     0.87873,\n",
      "            0.87847,     0.87828,      0.8781,     0.87791,     0.87772,     0.87756,     0.87741,     0.87726,     0.87711,     0.87696,     0.87681,     0.87647,     0.87613,      0.8749,     0.87455,     0.87421,     0.87394,     0.87371,     0.87348,     0.87325,     0.87309,     0.87301,     0.87292,\n",
      "            0.87284,     0.87275,     0.87267,     0.87258,     0.87249,     0.87241,     0.87232,     0.87224,      0.8721,     0.87185,      0.8716,     0.87136,     0.87119,     0.87115,      0.8711,     0.87105,     0.87101,     0.87096,     0.87091,     0.87087,     0.87082,     0.87077,     0.87073,\n",
      "            0.87068,     0.87063,     0.87059,     0.87054,     0.87049,     0.87045,      0.8704,     0.87035,     0.87031,     0.87026,     0.86942,     0.87241,     0.87551,     0.87642,     0.87733,     0.87824,     0.87916,     0.88007,     0.88098,     0.88189,     0.88233,     0.88399,     0.88564,\n",
      "             0.8873,     0.88738,     0.89047,     0.89356,     0.89339,     0.89329,      0.8932,      0.8931,       0.893,      0.8929,      0.8928,     0.89271,     0.89261,     0.89249,     0.89236,     0.89224,     0.89211,     0.89198,     0.89185,     0.89172,      0.8927,     0.89454,     0.89638,\n",
      "            0.89822,     0.90133,     0.90576,     0.90653,     0.90621,     0.90574,     0.90514,     0.90504,     0.90493,     0.90482,     0.90472,     0.90461,     0.90451,      0.9044,     0.90405,      0.9032,     0.90236,     0.90195,     0.90148,     0.90097,     0.90056,     0.90017,     0.90205,\n",
      "             0.9066,     0.90618,      0.9058,     0.91208,     0.91172,     0.91095,      0.9107,      0.9105,      0.9103,     0.91009,     0.90934,     0.90708,     0.90682,     0.90655,     0.90628,     0.91189,     0.91523,     0.92432,     0.92322,     0.92253,     0.92618,     0.93257,     0.93241,\n",
      "            0.93226,      0.9321,     0.93195,      0.9337,     0.94248,     0.94224,       0.942,      0.9417,     0.94133,     0.94024,      0.9397,     0.93954,     0.93938,     0.93921,     0.93905,     0.93846,     0.93782,     0.93739,     0.93716,     0.93693,     0.93667,     0.93593,     0.93562,\n",
      "            0.93532,     0.93495,     0.93418,     0.93371,     0.93308,     0.94519,     0.94465,     0.94402,     0.94273,     0.94234,     0.94188,     0.94117,     0.93996,     0.93933,     0.94126,     0.95211,     0.95132,     0.95011,     0.94745,     0.94306,     0.94086,     0.93961,     0.93871,\n",
      "            0.93759,     0.93508,     0.93364,     0.93559,     0.94614,     0.95293,     0.97529,     0.97463,     0.97301,     0.97072,     0.96695,     0.96456,      0.9615,     0.96026,      0.9571,     0.95409,     0.95258,     0.94736,     0.94244,     0.93863,     0.93607,      0.9339,     0.99901,\n",
      "                  1,           1,           1,           1,           1,           1,           1,           1,           1,           1,           1,           1,           1,           1,           1,           1,           1,           1,           1,           1,           1,           1,           1,\n",
      "                  1,           1,           1,           1,           1,           1,           1,           1,           1,           1,           1]]), 'Confidence', 'Precision'], [array([          0,    0.001001,    0.002002,    0.003003,    0.004004,    0.005005,    0.006006,    0.007007,    0.008008,    0.009009,     0.01001,    0.011011,    0.012012,    0.013013,    0.014014,    0.015015,    0.016016,    0.017017,    0.018018,    0.019019,     0.02002,    0.021021,    0.022022,    0.023023,\n",
      "          0.024024,    0.025025,    0.026026,    0.027027,    0.028028,    0.029029,     0.03003,    0.031031,    0.032032,    0.033033,    0.034034,    0.035035,    0.036036,    0.037037,    0.038038,    0.039039,     0.04004,    0.041041,    0.042042,    0.043043,    0.044044,    0.045045,    0.046046,    0.047047,\n",
      "          0.048048,    0.049049,     0.05005,    0.051051,    0.052052,    0.053053,    0.054054,    0.055055,    0.056056,    0.057057,    0.058058,    0.059059,     0.06006,    0.061061,    0.062062,    0.063063,    0.064064,    0.065065,    0.066066,    0.067067,    0.068068,    0.069069,     0.07007,    0.071071,\n",
      "          0.072072,    0.073073,    0.074074,    0.075075,    0.076076,    0.077077,    0.078078,    0.079079,     0.08008,    0.081081,    0.082082,    0.083083,    0.084084,    0.085085,    0.086086,    0.087087,    0.088088,    0.089089,     0.09009,    0.091091,    0.092092,    0.093093,    0.094094,    0.095095,\n",
      "          0.096096,    0.097097,    0.098098,    0.099099,      0.1001,      0.1011,      0.1021,      0.1031,      0.1041,     0.10511,     0.10611,     0.10711,     0.10811,     0.10911,     0.11011,     0.11111,     0.11211,     0.11311,     0.11411,     0.11512,     0.11612,     0.11712,     0.11812,     0.11912,\n",
      "           0.12012,     0.12112,     0.12212,     0.12312,     0.12412,     0.12513,     0.12613,     0.12713,     0.12813,     0.12913,     0.13013,     0.13113,     0.13213,     0.13313,     0.13413,     0.13514,     0.13614,     0.13714,     0.13814,     0.13914,     0.14014,     0.14114,     0.14214,     0.14314,\n",
      "           0.14414,     0.14515,     0.14615,     0.14715,     0.14815,     0.14915,     0.15015,     0.15115,     0.15215,     0.15315,     0.15415,     0.15516,     0.15616,     0.15716,     0.15816,     0.15916,     0.16016,     0.16116,     0.16216,     0.16316,     0.16416,     0.16517,     0.16617,     0.16717,\n",
      "           0.16817,     0.16917,     0.17017,     0.17117,     0.17217,     0.17317,     0.17417,     0.17518,     0.17618,     0.17718,     0.17818,     0.17918,     0.18018,     0.18118,     0.18218,     0.18318,     0.18418,     0.18519,     0.18619,     0.18719,     0.18819,     0.18919,     0.19019,     0.19119,\n",
      "           0.19219,     0.19319,     0.19419,      0.1952,      0.1962,      0.1972,      0.1982,      0.1992,      0.2002,      0.2012,      0.2022,      0.2032,      0.2042,     0.20521,     0.20621,     0.20721,     0.20821,     0.20921,     0.21021,     0.21121,     0.21221,     0.21321,     0.21421,     0.21522,\n",
      "           0.21622,     0.21722,     0.21822,     0.21922,     0.22022,     0.22122,     0.22222,     0.22322,     0.22422,     0.22523,     0.22623,     0.22723,     0.22823,     0.22923,     0.23023,     0.23123,     0.23223,     0.23323,     0.23423,     0.23524,     0.23624,     0.23724,     0.23824,     0.23924,\n",
      "           0.24024,     0.24124,     0.24224,     0.24324,     0.24424,     0.24525,     0.24625,     0.24725,     0.24825,     0.24925,     0.25025,     0.25125,     0.25225,     0.25325,     0.25425,     0.25526,     0.25626,     0.25726,     0.25826,     0.25926,     0.26026,     0.26126,     0.26226,     0.26326,\n",
      "           0.26426,     0.26527,     0.26627,     0.26727,     0.26827,     0.26927,     0.27027,     0.27127,     0.27227,     0.27327,     0.27427,     0.27528,     0.27628,     0.27728,     0.27828,     0.27928,     0.28028,     0.28128,     0.28228,     0.28328,     0.28428,     0.28529,     0.28629,     0.28729,\n",
      "           0.28829,     0.28929,     0.29029,     0.29129,     0.29229,     0.29329,     0.29429,      0.2953,      0.2963,      0.2973,      0.2983,      0.2993,      0.3003,      0.3013,      0.3023,      0.3033,      0.3043,     0.30531,     0.30631,     0.30731,     0.30831,     0.30931,     0.31031,     0.31131,\n",
      "           0.31231,     0.31331,     0.31431,     0.31532,     0.31632,     0.31732,     0.31832,     0.31932,     0.32032,     0.32132,     0.32232,     0.32332,     0.32432,     0.32533,     0.32633,     0.32733,     0.32833,     0.32933,     0.33033,     0.33133,     0.33233,     0.33333,     0.33433,     0.33534,\n",
      "           0.33634,     0.33734,     0.33834,     0.33934,     0.34034,     0.34134,     0.34234,     0.34334,     0.34434,     0.34535,     0.34635,     0.34735,     0.34835,     0.34935,     0.35035,     0.35135,     0.35235,     0.35335,     0.35435,     0.35536,     0.35636,     0.35736,     0.35836,     0.35936,\n",
      "           0.36036,     0.36136,     0.36236,     0.36336,     0.36436,     0.36537,     0.36637,     0.36737,     0.36837,     0.36937,     0.37037,     0.37137,     0.37237,     0.37337,     0.37437,     0.37538,     0.37638,     0.37738,     0.37838,     0.37938,     0.38038,     0.38138,     0.38238,     0.38338,\n",
      "           0.38438,     0.38539,     0.38639,     0.38739,     0.38839,     0.38939,     0.39039,     0.39139,     0.39239,     0.39339,     0.39439,      0.3954,      0.3964,      0.3974,      0.3984,      0.3994,      0.4004,      0.4014,      0.4024,      0.4034,      0.4044,     0.40541,     0.40641,     0.40741,\n",
      "           0.40841,     0.40941,     0.41041,     0.41141,     0.41241,     0.41341,     0.41441,     0.41542,     0.41642,     0.41742,     0.41842,     0.41942,     0.42042,     0.42142,     0.42242,     0.42342,     0.42442,     0.42543,     0.42643,     0.42743,     0.42843,     0.42943,     0.43043,     0.43143,\n",
      "           0.43243,     0.43343,     0.43443,     0.43544,     0.43644,     0.43744,     0.43844,     0.43944,     0.44044,     0.44144,     0.44244,     0.44344,     0.44444,     0.44545,     0.44645,     0.44745,     0.44845,     0.44945,     0.45045,     0.45145,     0.45245,     0.45345,     0.45445,     0.45546,\n",
      "           0.45646,     0.45746,     0.45846,     0.45946,     0.46046,     0.46146,     0.46246,     0.46346,     0.46446,     0.46547,     0.46647,     0.46747,     0.46847,     0.46947,     0.47047,     0.47147,     0.47247,     0.47347,     0.47447,     0.47548,     0.47648,     0.47748,     0.47848,     0.47948,\n",
      "           0.48048,     0.48148,     0.48248,     0.48348,     0.48448,     0.48549,     0.48649,     0.48749,     0.48849,     0.48949,     0.49049,     0.49149,     0.49249,     0.49349,     0.49449,      0.4955,      0.4965,      0.4975,      0.4985,      0.4995,      0.5005,      0.5015,      0.5025,      0.5035,\n",
      "            0.5045,     0.50551,     0.50651,     0.50751,     0.50851,     0.50951,     0.51051,     0.51151,     0.51251,     0.51351,     0.51451,     0.51552,     0.51652,     0.51752,     0.51852,     0.51952,     0.52052,     0.52152,     0.52252,     0.52352,     0.52452,     0.52553,     0.52653,     0.52753,\n",
      "           0.52853,     0.52953,     0.53053,     0.53153,     0.53253,     0.53353,     0.53453,     0.53554,     0.53654,     0.53754,     0.53854,     0.53954,     0.54054,     0.54154,     0.54254,     0.54354,     0.54454,     0.54555,     0.54655,     0.54755,     0.54855,     0.54955,     0.55055,     0.55155,\n",
      "           0.55255,     0.55355,     0.55455,     0.55556,     0.55656,     0.55756,     0.55856,     0.55956,     0.56056,     0.56156,     0.56256,     0.56356,     0.56456,     0.56557,     0.56657,     0.56757,     0.56857,     0.56957,     0.57057,     0.57157,     0.57257,     0.57357,     0.57457,     0.57558,\n",
      "           0.57658,     0.57758,     0.57858,     0.57958,     0.58058,     0.58158,     0.58258,     0.58358,     0.58458,     0.58559,     0.58659,     0.58759,     0.58859,     0.58959,     0.59059,     0.59159,     0.59259,     0.59359,     0.59459,      0.5956,      0.5966,      0.5976,      0.5986,      0.5996,\n",
      "            0.6006,      0.6016,      0.6026,      0.6036,      0.6046,     0.60561,     0.60661,     0.60761,     0.60861,     0.60961,     0.61061,     0.61161,     0.61261,     0.61361,     0.61461,     0.61562,     0.61662,     0.61762,     0.61862,     0.61962,     0.62062,     0.62162,     0.62262,     0.62362,\n",
      "           0.62462,     0.62563,     0.62663,     0.62763,     0.62863,     0.62963,     0.63063,     0.63163,     0.63263,     0.63363,     0.63463,     0.63564,     0.63664,     0.63764,     0.63864,     0.63964,     0.64064,     0.64164,     0.64264,     0.64364,     0.64464,     0.64565,     0.64665,     0.64765,\n",
      "           0.64865,     0.64965,     0.65065,     0.65165,     0.65265,     0.65365,     0.65465,     0.65566,     0.65666,     0.65766,     0.65866,     0.65966,     0.66066,     0.66166,     0.66266,     0.66366,     0.66466,     0.66567,     0.66667,     0.66767,     0.66867,     0.66967,     0.67067,     0.67167,\n",
      "           0.67267,     0.67367,     0.67467,     0.67568,     0.67668,     0.67768,     0.67868,     0.67968,     0.68068,     0.68168,     0.68268,     0.68368,     0.68468,     0.68569,     0.68669,     0.68769,     0.68869,     0.68969,     0.69069,     0.69169,     0.69269,     0.69369,     0.69469,      0.6957,\n",
      "            0.6967,      0.6977,      0.6987,      0.6997,      0.7007,      0.7017,      0.7027,      0.7037,      0.7047,     0.70571,     0.70671,     0.70771,     0.70871,     0.70971,     0.71071,     0.71171,     0.71271,     0.71371,     0.71471,     0.71572,     0.71672,     0.71772,     0.71872,     0.71972,\n",
      "           0.72072,     0.72172,     0.72272,     0.72372,     0.72472,     0.72573,     0.72673,     0.72773,     0.72873,     0.72973,     0.73073,     0.73173,     0.73273,     0.73373,     0.73473,     0.73574,     0.73674,     0.73774,     0.73874,     0.73974,     0.74074,     0.74174,     0.74274,     0.74374,\n",
      "           0.74474,     0.74575,     0.74675,     0.74775,     0.74875,     0.74975,     0.75075,     0.75175,     0.75275,     0.75375,     0.75475,     0.75576,     0.75676,     0.75776,     0.75876,     0.75976,     0.76076,     0.76176,     0.76276,     0.76376,     0.76476,     0.76577,     0.76677,     0.76777,\n",
      "           0.76877,     0.76977,     0.77077,     0.77177,     0.77277,     0.77377,     0.77477,     0.77578,     0.77678,     0.77778,     0.77878,     0.77978,     0.78078,     0.78178,     0.78278,     0.78378,     0.78478,     0.78579,     0.78679,     0.78779,     0.78879,     0.78979,     0.79079,     0.79179,\n",
      "           0.79279,     0.79379,     0.79479,      0.7958,      0.7968,      0.7978,      0.7988,      0.7998,      0.8008,      0.8018,      0.8028,      0.8038,      0.8048,     0.80581,     0.80681,     0.80781,     0.80881,     0.80981,     0.81081,     0.81181,     0.81281,     0.81381,     0.81481,     0.81582,\n",
      "           0.81682,     0.81782,     0.81882,     0.81982,     0.82082,     0.82182,     0.82282,     0.82382,     0.82482,     0.82583,     0.82683,     0.82783,     0.82883,     0.82983,     0.83083,     0.83183,     0.83283,     0.83383,     0.83483,     0.83584,     0.83684,     0.83784,     0.83884,     0.83984,\n",
      "           0.84084,     0.84184,     0.84284,     0.84384,     0.84484,     0.84585,     0.84685,     0.84785,     0.84885,     0.84985,     0.85085,     0.85185,     0.85285,     0.85385,     0.85485,     0.85586,     0.85686,     0.85786,     0.85886,     0.85986,     0.86086,     0.86186,     0.86286,     0.86386,\n",
      "           0.86486,     0.86587,     0.86687,     0.86787,     0.86887,     0.86987,     0.87087,     0.87187,     0.87287,     0.87387,     0.87487,     0.87588,     0.87688,     0.87788,     0.87888,     0.87988,     0.88088,     0.88188,     0.88288,     0.88388,     0.88488,     0.88589,     0.88689,     0.88789,\n",
      "           0.88889,     0.88989,     0.89089,     0.89189,     0.89289,     0.89389,     0.89489,      0.8959,      0.8969,      0.8979,      0.8989,      0.8999,      0.9009,      0.9019,      0.9029,      0.9039,      0.9049,     0.90591,     0.90691,     0.90791,     0.90891,     0.90991,     0.91091,     0.91191,\n",
      "           0.91291,     0.91391,     0.91491,     0.91592,     0.91692,     0.91792,     0.91892,     0.91992,     0.92092,     0.92192,     0.92292,     0.92392,     0.92492,     0.92593,     0.92693,     0.92793,     0.92893,     0.92993,     0.93093,     0.93193,     0.93293,     0.93393,     0.93493,     0.93594,\n",
      "           0.93694,     0.93794,     0.93894,     0.93994,     0.94094,     0.94194,     0.94294,     0.94394,     0.94494,     0.94595,     0.94695,     0.94795,     0.94895,     0.94995,     0.95095,     0.95195,     0.95295,     0.95395,     0.95495,     0.95596,     0.95696,     0.95796,     0.95896,     0.95996,\n",
      "           0.96096,     0.96196,     0.96296,     0.96396,     0.96496,     0.96597,     0.96697,     0.96797,     0.96897,     0.96997,     0.97097,     0.97197,     0.97297,     0.97397,     0.97497,     0.97598,     0.97698,     0.97798,     0.97898,     0.97998,     0.98098,     0.98198,     0.98298,     0.98398,\n",
      "           0.98498,     0.98599,     0.98699,     0.98799,     0.98899,     0.98999,     0.99099,     0.99199,     0.99299,     0.99399,     0.99499,       0.996,       0.997,       0.998,       0.999,           1]), array([[    0.94268,     0.94268,     0.92994,     0.92994,     0.92994,     0.92994,     0.92994,     0.92994,     0.92994,     0.92994,     0.92994,     0.92994,     0.92994,     0.92994,     0.92994,     0.92357,     0.92357,     0.92357,     0.92357,     0.92357,     0.92357,     0.92357,     0.92357,\n",
      "            0.92357,     0.92357,     0.92357,     0.92357,     0.92357,     0.92357,     0.92357,     0.92357,     0.92357,     0.92357,     0.92339,     0.92113,     0.91886,      0.9172,      0.9172,      0.9172,      0.9172,      0.9172,      0.9172,      0.9172,      0.9172,      0.9172,      0.9172,\n",
      "             0.9172,      0.9172,      0.9172,      0.9172,      0.9172,      0.9172,      0.9172,      0.9172,      0.9172,      0.9172,      0.9172,      0.9172,      0.9172,      0.9172,      0.9172,      0.9172,      0.9172,      0.9172,      0.9172,      0.9172,     0.91611,     0.91435,      0.9126,\n",
      "            0.91084,     0.91083,     0.91083,     0.91083,     0.91083,     0.91083,     0.91083,     0.91083,     0.91083,     0.91083,     0.91083,     0.91083,     0.91083,     0.91083,     0.91083,     0.91083,     0.91083,     0.91083,     0.91083,     0.91083,     0.91083,     0.91083,     0.91083,\n",
      "            0.91083,     0.91083,     0.91083,     0.91083,     0.91083,     0.91083,     0.91083,     0.91083,     0.91083,     0.91083,     0.91083,     0.91083,     0.91083,     0.91083,     0.91083,     0.91083,     0.91083,     0.91083,     0.91083,     0.91083,     0.91083,     0.91083,     0.91083,\n",
      "            0.91083,     0.91083,     0.91083,     0.91083,     0.91083,     0.91083,     0.91083,     0.91083,     0.91083,     0.91083,     0.91083,     0.91083,     0.91083,     0.91083,     0.91083,     0.91083,     0.91083,     0.91083,     0.91083,     0.91083,     0.91083,     0.91083,     0.91083,\n",
      "            0.91083,     0.91083,     0.91083,     0.91083,     0.91083,     0.91083,     0.91083,     0.91083,     0.91083,     0.91083,     0.91083,     0.91083,     0.91083,     0.91083,     0.91083,     0.91083,     0.91083,     0.91083,     0.91083,     0.91083,     0.91083,     0.91083,     0.91083,\n",
      "            0.91083,     0.91083,     0.91083,     0.91083,     0.91083,     0.91083,     0.91083,     0.91083,     0.91083,     0.91083,     0.91083,     0.91083,     0.91083,     0.91083,     0.91083,     0.91083,     0.91083,     0.91083,     0.91083,     0.91083,     0.91083,     0.91083,     0.91083,\n",
      "            0.91083,     0.91083,     0.91083,     0.91083,     0.91083,     0.91083,     0.91083,     0.91083,     0.91083,     0.91083,     0.91083,     0.91083,     0.91083,     0.91083,     0.91083,     0.91083,     0.91083,     0.91083,     0.91083,     0.91083,     0.91083,     0.91083,     0.91083,\n",
      "            0.91083,     0.91083,     0.91083,     0.91083,     0.91083,     0.91083,     0.91083,     0.91083,     0.91083,     0.91083,     0.91083,     0.91083,     0.91083,     0.91083,     0.91083,     0.91029,     0.90972,     0.90916,     0.90859,     0.90802,     0.90746,     0.90689,     0.90633,\n",
      "            0.90576,     0.90519,     0.90463,     0.90446,     0.90446,     0.90446,     0.90446,     0.90446,     0.90446,     0.90446,     0.90446,     0.90446,     0.90446,     0.90446,     0.90446,     0.90446,     0.90446,     0.90446,     0.90446,     0.90446,     0.90446,     0.90446,     0.90446,\n",
      "            0.90446,     0.90446,     0.90446,     0.90446,     0.90446,     0.90446,     0.90446,     0.90446,     0.90446,     0.90446,     0.90446,     0.90446,     0.90446,     0.90446,     0.90446,     0.90446,     0.90446,     0.90446,     0.90446,     0.90446,     0.90446,     0.90446,     0.90446,\n",
      "            0.90446,     0.90446,     0.90446,     0.90446,     0.90446,     0.90446,     0.90446,     0.90446,     0.90446,     0.90446,     0.90446,     0.90446,     0.90446,     0.90446,     0.90446,     0.90446,     0.90446,     0.90446,     0.90446,     0.90446,     0.90443,     0.90428,     0.90413,\n",
      "            0.90399,     0.90384,     0.90369,     0.90355,      0.9034,     0.90325,     0.90311,     0.90296,     0.90281,     0.90267,     0.90252,     0.90237,     0.90223,     0.90208,     0.90193,     0.90179,     0.90164,     0.90149,     0.90135,      0.9012,     0.90105,     0.90091,     0.90076,\n",
      "            0.90061,     0.90047,     0.90032,     0.90017,     0.90003,     0.89988,     0.89973,     0.89959,     0.89944,     0.89929,     0.89915,       0.899,     0.89885,     0.89871,     0.89856,     0.89841,     0.89827,     0.89812,     0.89724,     0.89614,     0.89505,     0.89396,     0.89287,\n",
      "            0.89177,     0.89139,     0.89104,      0.8907,     0.89035,        0.89,     0.88966,     0.88931,     0.88896,     0.88862,     0.88827,     0.88792,     0.88758,     0.88723,     0.88688,     0.88654,     0.88619,     0.88584,      0.8855,     0.88535,     0.88535,     0.88535,     0.88535,\n",
      "            0.88535,     0.88535,     0.88535,     0.88535,     0.88535,     0.88535,     0.88535,     0.88535,     0.88535,     0.88535,     0.88535,     0.88535,     0.88535,     0.88535,     0.88535,     0.88535,     0.88535,     0.88535,     0.88535,     0.88535,     0.88535,     0.88535,     0.88535,\n",
      "            0.88535,     0.88535,     0.88535,     0.88535,     0.88535,     0.88535,     0.88535,     0.88535,     0.88535,     0.88535,     0.88535,     0.88535,     0.88535,     0.88535,     0.88535,     0.88535,     0.88535,     0.88535,     0.88535,     0.88535,     0.88535,     0.88535,     0.88535,\n",
      "            0.88535,     0.88535,     0.88535,     0.88535,     0.88535,     0.88535,     0.88535,     0.88535,     0.88535,     0.88535,     0.88535,     0.88535,     0.88535,     0.88535,     0.88535,     0.88535,     0.88535,     0.88535,     0.88535,     0.88535,     0.88535,     0.88535,     0.88535,\n",
      "            0.88535,     0.88535,     0.88535,     0.88535,     0.88535,     0.88535,     0.88535,     0.88535,     0.88535,     0.88535,     0.88535,     0.88535,     0.88535,     0.88535,     0.88535,     0.88533,     0.88514,     0.88494,     0.88475,     0.88456,     0.88437,     0.88418,     0.88399,\n",
      "            0.88379,      0.8836,     0.88341,     0.88322,     0.88303,     0.88283,     0.88264,     0.88245,     0.88226,     0.88207,     0.88188,     0.88168,     0.88149,      0.8813,     0.88111,     0.88092,     0.88073,     0.88053,     0.88034,     0.88015,     0.87996,     0.87977,     0.87957,\n",
      "            0.87938,     0.87919,       0.879,     0.87876,     0.87851,     0.87826,     0.87801,     0.87777,     0.87752,     0.87727,     0.87702,     0.87677,     0.87653,     0.87628,     0.87603,     0.87578,     0.87553,     0.87529,     0.87504,     0.87479,     0.87454,     0.87429,     0.87405,\n",
      "             0.8738,     0.87355,      0.8733,     0.87306,     0.87281,     0.87261,     0.87261,     0.87261,     0.87171,     0.87072,     0.86974,     0.86876,     0.86778,     0.86679,     0.86606,     0.86565,     0.86523,     0.86482,     0.86441,       0.864,     0.86358,     0.86317,     0.86276,\n",
      "            0.86234,     0.86193,     0.86152,      0.8611,     0.86069,     0.86028,     0.85987,     0.85987,     0.85987,     0.85987,     0.85987,     0.85987,     0.85987,     0.85987,     0.85987,     0.85987,     0.85987,     0.85987,     0.85868,     0.85746,     0.85625,     0.85503,     0.85381,\n",
      "             0.8535,      0.8535,      0.8535,      0.8535,      0.8535,      0.8535,      0.8535,      0.8535,      0.8535,      0.8535,      0.8535,      0.8535,      0.8535,      0.8535,     0.85286,     0.85221,     0.85157,     0.85092,     0.85028,     0.84963,     0.84898,     0.84834,     0.84769,\n",
      "            0.84713,     0.84713,     0.84713,     0.84713,     0.84713,     0.84713,     0.84713,     0.84713,     0.84713,     0.84713,     0.84713,     0.84713,     0.84713,     0.84713,     0.84713,     0.84713,     0.84713,     0.84713,     0.84713,     0.84713,     0.84713,     0.84713,     0.84713,\n",
      "            0.84713,     0.84713,     0.84713,     0.84713,     0.84713,     0.84713,     0.84713,     0.84713,     0.84713,     0.84713,     0.84713,     0.84556,     0.84071,     0.84056,     0.84041,     0.84026,     0.84011,     0.83996,     0.83981,     0.83966,     0.83951,     0.83936,     0.83921,\n",
      "            0.83906,     0.83891,     0.83876,     0.83861,     0.83847,     0.83832,     0.83817,     0.83802,     0.83787,     0.83772,     0.83757,     0.83742,     0.83727,     0.83712,     0.83697,     0.83682,     0.83667,     0.83652,     0.83637,     0.83622,     0.83607,     0.83592,     0.83577,\n",
      "            0.83562,     0.83547,     0.83532,     0.83517,     0.83502,     0.83487,     0.83472,     0.83457,     0.83442,     0.83439,     0.83439,     0.83439,     0.83439,     0.83439,     0.83439,     0.83439,     0.83439,     0.83439,     0.83439,     0.83439,     0.83439,     0.83439,     0.83439,\n",
      "            0.83416,     0.83388,      0.8336,     0.83331,     0.83303,     0.83275,     0.83247,     0.83218,      0.8319,     0.83162,     0.83134,     0.83105,     0.83077,     0.83049,     0.83021,     0.82992,     0.82964,     0.82936,     0.82908,     0.82879,     0.82851,     0.82823,     0.82775,\n",
      "            0.82677,     0.82579,     0.82481,     0.82383,     0.82285,     0.82187,     0.82127,     0.82078,     0.82029,     0.81981,     0.81932,     0.81883,     0.81834,     0.81785,     0.81736,     0.81687,     0.81638,     0.81589,      0.8154,     0.81434,      0.8131,     0.81185,     0.81061,\n",
      "            0.80937,     0.80868,     0.80831,     0.80793,     0.80756,     0.80719,     0.80681,     0.80644,     0.80607,     0.80569,     0.80532,     0.80495,     0.80457,      0.8042,     0.80383,     0.80345,     0.80308,     0.80271,     0.79981,     0.79611,     0.79585,     0.79558,     0.79532,\n",
      "            0.79505,     0.79478,     0.79452,     0.79425,     0.79398,     0.79372,     0.79345,     0.79319,     0.79292,     0.79265,     0.79239,     0.79212,     0.79186,     0.79159,     0.79132,     0.79106,     0.79079,     0.79053,     0.79026,     0.78999,      0.7896,     0.78711,     0.78463,\n",
      "            0.78272,     0.78135,     0.77997,      0.7786,     0.77722,     0.77611,     0.77503,     0.77395,     0.77286,     0.77178,      0.7707,     0.76829,     0.76588,     0.75727,     0.75489,     0.75251,     0.75065,     0.74911,     0.74758,     0.74604,     0.74495,     0.74438,     0.74381,\n",
      "            0.74324,     0.74267,     0.74209,     0.74152,     0.74095,     0.74038,      0.7398,     0.73923,      0.7383,     0.73668,     0.73507,     0.73345,     0.73236,     0.73206,     0.73176,     0.73145,     0.73115,     0.73085,     0.73055,     0.73024,     0.72994,     0.72964,     0.72933,\n",
      "            0.72903,     0.72873,     0.72843,     0.72812,     0.72782,     0.72752,     0.72722,     0.72691,     0.72661,     0.72631,     0.72096,     0.71338,     0.71338,     0.71338,     0.71338,     0.71338,     0.71338,     0.71338,     0.71338,     0.71338,     0.70701,     0.70701,     0.70701,\n",
      "            0.70701,     0.70064,     0.70064,     0.70064,     0.69391,      0.6932,     0.69249,     0.69178,     0.69107,     0.69036,     0.68965,     0.68894,     0.68823,     0.68741,     0.68649,     0.68558,     0.68467,     0.68376,     0.68284,     0.68193,     0.68153,     0.68153,     0.68153,\n",
      "            0.68153,     0.68153,     0.68153,     0.67954,     0.67697,     0.67326,     0.66855,     0.66773,     0.66692,      0.6661,     0.66529,     0.66448,     0.66366,     0.66285,     0.66013,     0.65372,      0.6475,      0.6445,      0.6411,     0.63743,     0.63455,      0.6318,      0.6242,\n",
      "            0.61825,     0.61523,     0.61246,     0.61146,     0.59202,     0.58641,     0.58465,     0.58319,     0.58174,     0.58029,     0.57501,     0.55962,     0.55787,     0.55611,     0.55436,     0.55414,     0.55014,     0.54457,     0.53611,     0.53094,     0.52866,     0.52852,     0.52723,\n",
      "            0.52594,     0.52465,     0.52336,     0.52229,     0.52181,     0.51952,     0.51723,     0.51445,     0.51101,     0.50106,     0.49631,      0.4949,     0.49349,     0.49209,     0.49068,     0.48568,     0.48034,      0.4768,     0.47494,     0.47309,     0.47102,     0.46525,     0.46281,\n",
      "            0.46054,     0.45775,     0.45202,     0.44859,     0.44408,     0.43937,     0.43487,     0.42968,     0.41944,     0.41641,      0.4129,     0.40758,     0.39892,     0.39444,     0.38217,      0.3799,     0.37345,     0.36394,     0.34453,     0.31651,       0.304,     0.29735,     0.29266,\n",
      "            0.28706,     0.27526,     0.26888,     0.26115,     0.26115,     0.25796,     0.25141,     0.24477,     0.22959,     0.21119,     0.18638,      0.1734,     0.15907,     0.15394,     0.14216,      0.1324,     0.12797,     0.11464,     0.10438,      0.0975,    0.093359,    0.090031,    0.089172,\n",
      "           0.086854,    0.084509,    0.082322,    0.080559,    0.078796,    0.077033,    0.073256,    0.069212,    0.066682,    0.064152,    0.052984,    0.047488,    0.038133,    0.036108,    0.034083,    0.032057,    0.018968,    0.017765,    0.016561,    0.015357,    0.014154,     0.01295,     0.01128,\n",
      "           0.009512,   0.0077436,           0,           0,           0,           0,           0,           0,           0,           0,           0]]), 'Confidence', 'Recall']]\n",
      "fitness: np.float64(0.866685697705369)\n",
      "keys: ['metrics/precision(B)', 'metrics/recall(B)', 'metrics/mAP50(B)', 'metrics/mAP50-95(B)']\n",
      "maps: array([    0.86625])\n",
      "names: {0: 'lesion'}\n",
      "plot: True\n",
      "results_dict: {'metrics/precision(B)': np.float64(0.8303352547235249), 'metrics/recall(B)': np.float64(0.9039854721750209), 'metrics/mAP50(B)': np.float64(0.8705865490102644), 'metrics/mAP50-95(B)': np.float64(0.8662522697826027), 'fitness': np.float64(0.866685697705369)}\n",
      "save_dir: WindowsPath('runs/detect/train2')\n",
      "speed: {'preprocess': 0.7013026332355919, 'inference': 39.75323357507196, 'loss': 0.0, 'postprocess': 0.020675010081985235}\n",
      "task: 'detect'\n"
     ]
    }
   ],
   "source": [
    "print(val_results)"
   ]
  },
  {
   "cell_type": "code",
   "execution_count": null,
   "metadata": {},
   "outputs": [],
   "source": []
  }
 ],
 "metadata": {
  "kernelspec": {
   "display_name": ".venv",
   "language": "python",
   "name": "python3"
  },
  "language_info": {
   "codemirror_mode": {
    "name": "ipython",
    "version": 3
   },
   "file_extension": ".py",
   "mimetype": "text/x-python",
   "name": "python",
   "nbconvert_exporter": "python",
   "pygments_lexer": "ipython3",
   "version": "3.12.7"
  }
 },
 "nbformat": 4,
 "nbformat_minor": 2
}
